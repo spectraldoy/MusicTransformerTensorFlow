{
  "nbformat": 4,
  "nbformat_minor": 0,
  "metadata": {
    "colab": {
      "name": "Music_Transformer_Public.ipynb",
      "provenance": [],
      "collapsed_sections": [],
      "toc_visible": true,
      "machine_shape": "hm",
      "authorship_tag": "ABX9TyNLPVdZi5+RM3SVX40YsVps",
      "include_colab_link": true
    },
    "kernelspec": {
      "name": "python3",
      "display_name": "Python 3"
    },
    "accelerator": "GPU"
  },
  "cells": [
    {
      "cell_type": "markdown",
      "metadata": {
        "id": "view-in-github",
        "colab_type": "text"
      },
      "source": [
        "<a href=\"https://colab.research.google.com/github/spectraldoy/MusicTransformerTensorFlow/blob/main/Music_Transformer_Public.ipynb\" target=\"_parent\"><img src=\"https://colab.research.google.com/assets/colab-badge.svg\" alt=\"Open In Colab\"/></a>"
      ]
    },
    {
      "cell_type": "markdown",
      "metadata": {
        "id": "hFC_bRgHQzKI"
      },
      "source": [
        "### © Copyright 2021 Aditya Gomatam\n",
        "\n",
        "Licensed under the Apache License, Version 2.0 (the \"License\");"
      ]
    },
    {
      "cell_type": "markdown",
      "metadata": {
        "id": "YYEbY6bES-hT"
      },
      "source": [
        "# Music Transformer Model"
      ]
    },
    {
      "cell_type": "markdown",
      "metadata": {
        "id": "O-tN3TuVl-ip"
      },
      "source": [
        "___SpectralDoy, May 8 - Aug 26 2020___\n",
        "\n",
        "This notebook builds and trains a Music Transformer decoder model to generate music, based off the description in Huang et. al, 2018 (https://arxiv.org/pdf/1809.04281.pdf), with inferences taken from Shaw et. al, 2018 (Self Attention with Relative Position Representations: https://arxiv.org/pdf/1803.02155.pdf) and Vaswani et. al, 2017 (Attention is All You Need: https://arxiv.org/pdf/1706.03762.pdf), as well as Jay Alammar's blog (http://jalammar.github.io), and using the data representation given by Oore, et. al 2018, (This time with Feeling: https://arxiv.org/pdf/1808.03715.pdf).\n",
        "\n",
        "This project will utilize the TPU provided by Google Colab in order to train the model. However, the GPU or CPU can be used to test it."
      ]
    },
    {
      "cell_type": "code",
      "metadata": {
        "id": "Y-HuOdU_bFiK"
      },
      "source": [
        "# mount gdrive\n",
        "from google.colab import drive\n",
        "drive.mount(\"/content/gdrive/\", force_remount=True)\n",
        "\n",
        "PATH = \"./private/path\""
      ],
      "execution_count": null,
      "outputs": []
    },
    {
      "cell_type": "code",
      "metadata": {
        "id": "Qgr3SNOmGVau"
      },
      "source": [
        "# in order to be able to checkpoint while training, connect to GCS Bucket\n",
        "from google.colab import auth\n",
        "auth.authenticate_user()\n",
        "!gcloud config set project-name\n",
        "!gsutil acl ch -u service-495559152420@cloud-tpu.iam.gserviceaccount.com:WRITER gs://bucket"
      ],
      "execution_count": null,
      "outputs": []
    },
    {
      "cell_type": "code",
      "metadata": {
        "id": "LNosmnY9bHxx"
      },
      "source": [
        "# things to handle midi files\n",
        "!apt install fluidsynth\n",
        "!cp /usr/share/sounds/sf2/FluidR3_GM.sf2 ./font.sf2 # normal FluidSynth\n",
        "!gsutil -q -m cp gs://magentadata/soundfonts/Yamaha-C5-Salamander-JNv5.1.sf2 /content/ # magenta fluidsynth\n",
        "!pip install midi2audio\n",
        "!pip install mido"
      ],
      "execution_count": null,
      "outputs": []
    },
    {
      "cell_type": "code",
      "metadata": {
        "id": "ckD90dLxHJlB"
      },
      "source": [
        "# normal imports\n",
        "%matplotlib inline\n",
        "\n",
        "import tensorflow as tf\n",
        "import numpy as np \n",
        "from matplotlib import pyplot as plt\n",
        "\n",
        "import os\n",
        "import math\n",
        "import time\n",
        "import random\n",
        "\n",
        "%cd ./private/path\n",
        "import transformerutil5 as tu\n",
        "%cd ../../.."
      ],
      "execution_count": null,
      "outputs": []
    },
    {
      "cell_type": "code",
      "metadata": {
        "id": "gqfSEdTLiy0p"
      },
      "source": [
        "# fancy imports\n",
        "import mido\n",
        "from midi2audio import FluidSynth\n",
        "from IPython.display import Audio"
      ],
      "execution_count": null,
      "outputs": []
    },
    {
      "cell_type": "code",
      "metadata": {
        "id": "aIgmlaibGtU3"
      },
      "source": [
        "# set up tpu\n",
        "resolver = tf.distribute.cluster_resolver.TPUClusterResolver(tpu='grpc://' + os.environ['COLAB_TPU_ADDR'])\n",
        "tf.config.experimental_connect_to_cluster(resolver)\n",
        "tf.tpu.experimental.initialize_tpu_system(cluster_resolver=resolver)\n",
        "tf.config.list_logical_devices('TPU')"
      ],
      "execution_count": null,
      "outputs": []
    },
    {
      "cell_type": "code",
      "metadata": {
        "id": "EJEs8xwiKvTZ"
      },
      "source": [
        "# tpu distribution strategy\n",
        "strategy = tf.distribute.TPUStrategy(resolver)"
      ],
      "execution_count": null,
      "outputs": []
    },
    {
      "cell_type": "markdown",
      "metadata": {
        "id": "pUViFg3UGO4G"
      },
      "source": [
        "## Setup Input Pipeline"
      ]
    },
    {
      "cell_type": "markdown",
      "metadata": {
        "id": "uSTtukSUgbOw"
      },
      "source": [
        "Here we will prepare the input to load into the model. This means setting up the Dataset. A key aspect of this is that, while the first (n-1) tokens will be input to the model, it will be asked to predict the last (n-1) tokens. This property can be encoded into the Dataset to be able to make adequate batches.\n",
        "\n",
        "Since the task at hand is generation, we can split the data into train / validation / test in an 8 / 1 / 1 ratio. During training, the validation data will be used to calculate metrics, while the test data will be used as priors for generation."
      ]
    },
    {
      "cell_type": "code",
      "metadata": {
        "id": "YsZWZOuV29ss"
      },
      "source": [
        "MAX_LENGTH = 1921\n",
        "MAX_REL_DIST = 1921"
      ],
      "execution_count": null,
      "outputs": []
    },
    {
      "cell_type": "code",
      "metadata": {
        "id": "7EiXMAAwGUK4",
        "colab": {
          "base_uri": "https://localhost:8080/",
          "height": 51
        },
        "outputId": "8ffa8d57-462a-4ea8-b667-1da3397d28f1"
      },
      "source": [
        "data = np.load(PATH + 'maestro_data_1922.npy')\n",
        "\n",
        "# using the ratio 8/1/1, split data into train, val and test\n",
        "lth = data.shape[0]\n",
        "train_len = round(lth * 0.8)\n",
        "val_len = round(lth * 0.1)\n",
        "test_len = round(lth * 0.1)\n",
        "\n",
        "if train_len + val_len + test_len != lth:\n",
        "  test_len += lth - (train_len + val_len + test_len)\n",
        "\n",
        "train_data = data[:train_len]\n",
        "val_data = data[train_len:val_len + train_len]\n",
        "test_data = data[train_len + val_len:]\n",
        "\n",
        "print(f\"There are {lth} files in the data, {train_data.shape[0]} files in the train_data, \"\\\n",
        "      f\"\\n{val_data.shape[0]} files in the validation data, and {test_data.shape[0]} files in the test data.\")"
      ],
      "execution_count": null,
      "outputs": [
        {
          "output_type": "stream",
          "text": [
            "There are 302731 files in the data, 242185 files in the train_data, \n",
            "30273 files in the validation data, and 30273 files in the test data.\n"
          ],
          "name": "stdout"
        }
      ]
    },
    {
      "cell_type": "markdown",
      "metadata": {
        "id": "H1LIC3TUiUti"
      },
      "source": [
        "Now create the datasets and batch the data."
      ]
    },
    {
      "cell_type": "code",
      "metadata": {
        "id": "Rv0wYczjiRwK",
        "colab": {
          "base_uri": "https://localhost:8080/",
          "height": 34
        },
        "outputId": "2b29d045-4663-4e62-f02c-d32db9e03143"
      },
      "source": [
        "BUFFER_SIZE = 120000\n",
        "\n",
        "GLOBAL_BATCH_SIZE = 48\n",
        "per_replica_batch_size = GLOBAL_BATCH_SIZE // strategy.num_replicas_in_sync\n",
        "\n",
        "train_ds = tf.data.Dataset.from_tensor_slices((train_data[:, 1:], train_data[:, :-1]))\n",
        "# drop remainder to be able to distribute on the TPU\n",
        "train_ds = train_ds.shuffle(BUFFER_SIZE).batch(GLOBAL_BATCH_SIZE, drop_remainder=True)\n",
        "# prefetch makes fetching data faster\n",
        "train_ds = train_ds.prefetch(tf.data.experimental.AUTOTUNE) \n",
        "\n",
        "# distribute over TPUs\n",
        "train_dist_ds = strategy.experimental_distribute_dataset(train_ds)\n",
        "\n",
        "num_train_batches = len(list(train_dist_ds))\n",
        "\n",
        "print(f\"There are {num_train_batches} train batches\")"
      ],
      "execution_count": null,
      "outputs": [
        {
          "output_type": "stream",
          "text": [
            "There are 5045 train batches\n"
          ],
          "name": "stdout"
        }
      ]
    },
    {
      "cell_type": "markdown",
      "metadata": {
        "id": "Uj6-05N4kALP"
      },
      "source": [
        "Here's what a batch of inputs and targets looks like. Notice how the input batch contains start tokens (414) but no end tokens, while the target batch contains no start tokens, but contains end tokens (415), and that all other intermediate tokens are the same in corresponding rows of the input and target batches."
      ]
    },
    {
      "cell_type": "code",
      "metadata": {
        "id": "suQPBQ9pRJrf",
        "colab": {
          "base_uri": "https://localhost:8080/",
          "height": 1000
        },
        "outputId": "a757117c-3ec2-4314-8f46-d8bd57326f8e"
      },
      "source": [
        "tar_batch, inp_batch = next(iter(train_dist_ds))\n",
        "inp_batch, tar_batch"
      ],
      "execution_count": null,
      "outputs": [
        {
          "output_type": "execute_result",
          "data": {
            "text/plain": [
              "(PerReplica:{\n",
              "   0: <tf.Tensor: shape=(6, 1921), dtype=int32, numpy=\n",
              " array([[414,  67, 259, ..., 382,  62, 382],\n",
              "        [414, 382,  51, ..., 400,  40, 259],\n",
              "        [414, 260, 382, ...,  78, 259, 391],\n",
              "        [414, 382,  67, ..., 382,  77, 258],\n",
              "        [414, 258, 382, ...,  75, 259, 382],\n",
              "        [414, 261, 392, ...,  52, 382,  56]], dtype=int32)>,\n",
              "   1: <tf.Tensor: shape=(6, 1921), dtype=int32, numpy=\n",
              " array([[414, 266, 382, ..., 391,  66, 264],\n",
              "        [414,  75, 258, ..., 264, 382,  73],\n",
              "        [414, 258, 394, ...,  54, 258, 396],\n",
              "        [414, 258, 382, ...,  75, 261, 382],\n",
              "        [414, 408,  45, ..., 399,  63, 398],\n",
              "        [414,  74, 258, ..., 382,  87, 262]], dtype=int32)>,\n",
              "   2: <tf.Tensor: shape=(6, 1921), dtype=int32, numpy=\n",
              " array([[414, 382,  86, ...,  90, 259, 382],\n",
              "        [414,  47, 382, ...,  70, 260, 382],\n",
              "        [414,  53, 263, ...,  51, 258, 382],\n",
              "        [414,  68, 260, ..., 382,  52, 265],\n",
              "        [414,  68, 382, ..., 395,  51, 260],\n",
              "        [414, 402,  49, ..., 391,  72, 261]], dtype=int32)>,\n",
              "   3: <tf.Tensor: shape=(6, 1921), dtype=int32, numpy=\n",
              " array([[414, 267, 398, ..., 273, 394,  63],\n",
              "        [414, 382,  41, ...,  49, 289, 391],\n",
              "        [414, 382,  60, ..., 382,  74, 268],\n",
              "        [414,  45, 258, ...,  48, 264, 391],\n",
              "        [414,  62, 258, ..., 382,  69, 401],\n",
              "        [414,  76, 269, ..., 382,  89, 264]], dtype=int32)>,\n",
              "   4: <tf.Tensor: shape=(6, 1921), dtype=int32, numpy=\n",
              " array([[414, 404,  88, ...,  81, 382,  63],\n",
              "        [414, 396,  69, ..., 382,  63, 274],\n",
              "        [414, 382,  67, ...,  45, 262, 382],\n",
              "        [414,  71, 259, ..., 382,  51, 265],\n",
              "        [414, 396,  73, ..., 403,  61, 258],\n",
              "        [414, 382,  51, ...,  83, 274, 382]], dtype=int32)>,\n",
              "   5: <tf.Tensor: shape=(6, 1921), dtype=int32, numpy=\n",
              " array([[414, 270, 382, ...,  78, 266, 403],\n",
              "        [414,  47, 258, ...,  44, 401,  77],\n",
              "        [414,  79, 265, ..., 398,  42, 258],\n",
              "        [414, 266, 396, ..., 382,  55, 258],\n",
              "        [414,  76, 257, ..., 382,  66, 259],\n",
              "        [414, 258, 401, ..., 402,  33, 272]], dtype=int32)>,\n",
              "   6: <tf.Tensor: shape=(6, 1921), dtype=int32, numpy=\n",
              " array([[414,  73, 261, ..., 273, 403,  53],\n",
              "        [414,  66, 264, ...,  71, 260, 382],\n",
              "        [414,  26, 259, ..., 259, 382,  51],\n",
              "        [414, 395,  34, ..., 260, 382,  56],\n",
              "        [414, 403,  68, ..., 382,  82, 258],\n",
              "        [414, 262, 402, ..., 382,  60, 382]], dtype=int32)>,\n",
              "   7: <tf.Tensor: shape=(6, 1921), dtype=int32, numpy=\n",
              " array([[414, 382,  61, ..., 400,  61, 397],\n",
              "        [414, 403,  84, ..., 382,  70, 260],\n",
              "        [414, 296, 394, ..., 397,  67, 260],\n",
              "        [414,  53, 258, ...,  50, 261, 382],\n",
              "        [414, 399,  39, ...,  59, 269, 382],\n",
              "        [414,  67, 259, ...,  41, 270, 382]], dtype=int32)>\n",
              " }, PerReplica:{\n",
              "   0: <tf.Tensor: shape=(6, 1921), dtype=int32, numpy=\n",
              " array([[ 67, 259, 382, ...,  62, 382, 415],\n",
              "        [382,  51, 259, ...,  40, 259, 415],\n",
              "        [260, 382,  61, ..., 259, 391, 415],\n",
              "        [382,  67, 257, ...,  77, 258, 415],\n",
              "        [258, 382,  65, ..., 259, 382, 415],\n",
              "        [261, 392,  68, ..., 382,  56, 415]], dtype=int32)>,\n",
              "   1: <tf.Tensor: shape=(6, 1921), dtype=int32, numpy=\n",
              " array([[266, 382,  50, ...,  66, 264, 415],\n",
              "        [ 75, 258, 382, ..., 382,  73, 415],\n",
              "        [258, 394,  35, ..., 258, 396, 415],\n",
              "        [258, 382,  57, ..., 261, 382, 415],\n",
              "        [408,  45, 258, ...,  63, 398, 415],\n",
              "        [ 74, 258, 400, ...,  87, 262, 415]], dtype=int32)>,\n",
              "   2: <tf.Tensor: shape=(6, 1921), dtype=int32, numpy=\n",
              " array([[382,  86, 258, ..., 259, 382, 415],\n",
              "        [ 47, 382,  59, ..., 260, 382, 415],\n",
              "        [ 53, 263, 400, ..., 258, 382, 415],\n",
              "        [ 68, 260, 400, ...,  52, 265, 415],\n",
              "        [ 68, 382,  56, ...,  51, 260, 415],\n",
              "        [402,  49, 257, ...,  72, 261, 415]], dtype=int32)>,\n",
              "   3: <tf.Tensor: shape=(6, 1921), dtype=int32, numpy=\n",
              " array([[267, 398,  77, ..., 394,  63, 415],\n",
              "        [382,  41, 276, ..., 289, 391, 415],\n",
              "        [382,  60, 300, ...,  74, 268, 415],\n",
              "        [ 45, 258, 382, ..., 264, 391, 415],\n",
              "        [ 62, 258, 401, ...,  69, 401, 415],\n",
              "        [ 76, 269, 401, ...,  89, 264, 415]], dtype=int32)>,\n",
              "   4: <tf.Tensor: shape=(6, 1921), dtype=int32, numpy=\n",
              " array([[404,  88, 258, ..., 382,  63, 415],\n",
              "        [396,  69, 266, ...,  63, 274, 415],\n",
              "        [382,  67, 260, ..., 262, 382, 415],\n",
              "        [ 71, 259, 392, ...,  51, 265, 415],\n",
              "        [396,  73, 258, ...,  61, 258, 415],\n",
              "        [382,  51, 263, ..., 274, 382, 415]], dtype=int32)>,\n",
              "   5: <tf.Tensor: shape=(6, 1921), dtype=int32, numpy=\n",
              " array([[270, 382,  51, ..., 266, 403, 415],\n",
              "        [ 47, 258, 382, ..., 401,  77, 415],\n",
              "        [ 79, 265, 382, ...,  42, 258, 415],\n",
              "        [266, 396,  74, ...,  55, 258, 415],\n",
              "        [ 76, 257, 382, ...,  66, 259, 415],\n",
              "        [258, 401,  93, ...,  33, 272, 415]], dtype=int32)>,\n",
              "   6: <tf.Tensor: shape=(6, 1921), dtype=int32, numpy=\n",
              " array([[ 73, 261, 404, ..., 403,  53, 415],\n",
              "        [ 66, 264, 401, ..., 260, 382, 415],\n",
              "        [ 26, 259, 382, ..., 382,  51, 415],\n",
              "        [395,  34, 395, ..., 382,  56, 415],\n",
              "        [403,  68, 260, ...,  82, 258, 415],\n",
              "        [262, 402,  86, ...,  60, 382, 415]], dtype=int32)>,\n",
              "   7: <tf.Tensor: shape=(6, 1921), dtype=int32, numpy=\n",
              " array([[382,  61, 263, ...,  61, 397, 415],\n",
              "        [403,  84, 400, ...,  70, 260, 415],\n",
              "        [296, 394,  75, ...,  67, 260, 415],\n",
              "        [ 53, 258, 382, ..., 261, 382, 415],\n",
              "        [399,  39, 261, ..., 269, 382, 415],\n",
              "        [ 67, 259, 392, ..., 270, 382, 415]], dtype=int32)>\n",
              " })"
            ]
          },
          "metadata": {
            "tags": []
          },
          "execution_count": 143
        }
      ]
    },
    {
      "cell_type": "markdown",
      "metadata": {
        "id": "X9VtCjDE2DU4"
      },
      "source": [
        "Now, the data has been batched and shuffled, ready to input to the model. However, before we can actually build and train the model, we have to define certain functionalities."
      ]
    },
    {
      "cell_type": "markdown",
      "metadata": {
        "id": "A5s3-csWGUqN"
      },
      "source": [
        "## Absolute Positional Encoding"
      ]
    },
    {
      "cell_type": "markdown",
      "metadata": {
        "id": "Z7y4FzlmGYga"
      },
      "source": [
        "Since the transformer does not use recurrence or convolution, we have to deliberately give it positional information. Though learned relative position embeddings will be added to the model, it is possible that absolute position encoding will aid it in predicting next tokens.\n",
        "\n",
        "The positional encoding vector is added to the embedding vector. Embeddings represent a token in a d-dimensional space where tokens with similar meaning will be closer to each other. But the embeddings do not encode position in the input sequence. So after adding the positional encoding, words will be closer to each other based on the similarity of their meaning, as well as their position in the sentence, in this d-dimensional space - information which the transformer can use to better predict next tokens.\n",
        "\n",
        "The formula for absolute position encoding is as follows:\n",
        "$$\\Large{PE_{(pos, 2k)} = sin(pos / 10000^{2k / d_{model}})} $$\n",
        "$$\\Large{PE_{(pos, 2k+1)} = cos(pos / 10000^{2k / d_{model}})} $$"
      ]
    },
    {
      "cell_type": "code",
      "metadata": {
        "id": "JZj9XGljkygK"
      },
      "source": [
        "def get_angles(position, k, d_model):\n",
        "  # all values of each k\n",
        "  angle = 1 / np.power(10000, 2 * (k // 2) / d_model)\n",
        "  # matrix multiplied into all positions - represent each position with a d_model sized vector\n",
        "  return position @ angle"
      ],
      "execution_count": null,
      "outputs": []
    },
    {
      "cell_type": "code",
      "metadata": {
        "id": "QRLnDBm8nMmI"
      },
      "source": [
        "def abs_positional_encoding(max_position, d_model, n=3):\n",
        "  \"\"\"\n",
        "  returns absolute position encoding, creating a vector representation for all positions\n",
        "  from 0 to max_position of shape (d_model,) -> a matrix of shape (max_position, d_model)\n",
        "  and broadcasts it to n dimensions\n",
        "  \"\"\"\n",
        "  # angles are of shape (positions, d_model)\n",
        "  angles = get_angles(np.arange(max_position)[:, np.newaxis], \n",
        "                      np.arange(d_model)[np.newaxis, :], \n",
        "                      d_model)\n",
        "  \n",
        "  # apply sin to the even indices along the last axis\n",
        "  angles[:, 0::2] = np.sin(angles[:, 0::2])\n",
        "\n",
        "  # apply cos to the odd indices along the last axis\n",
        "  angles[:, 1::2] = np.cos(angles[:, 1::2])\n",
        "\n",
        "  # broadcast to n dimensions\n",
        "  for _ in range(n - 2):\n",
        "    angles = angles[np.newaxis, :]\n",
        "  return tf.cast(angles, tf.float32)"
      ],
      "execution_count": null,
      "outputs": []
    },
    {
      "cell_type": "code",
      "metadata": {
        "id": "XaqQS6y6s1u7",
        "colab": {
          "base_uri": "https://localhost:8080/",
          "height": 382
        },
        "outputId": "b4f11ce0-ba83-465c-a578-f8dd9d7759f1"
      },
      "source": [
        "pos_encoding = abs_positional_encoding(50, 256)\n",
        "print (pos_encoding.shape)\n",
        "\n",
        "fig = plt.figure(figsize=(8, 5.5))\n",
        "plt.pcolormesh(pos_encoding[0], cmap='RdBu')\n",
        "plt.xlabel('Depth')\n",
        "plt.xlim((0, 256))\n",
        "plt.ylabel('Position')\n",
        "plt.colorbar()\n",
        "plt.show()\n",
        "del pos_encoding, fig"
      ],
      "execution_count": null,
      "outputs": [
        {
          "output_type": "stream",
          "text": [
            "(1, 50, 256)\n"
          ],
          "name": "stdout"
        },
        {
          "output_type": "display_data",
          "data": {
            "image/png": "[encoded data removed]",
            "text/plain": [
              "<Figure size 576x396 with 2 Axes>"
            ]
          },
          "metadata": {
            "tags": [],
            "needs_background": "light"
          }
        }
      ]
    },
    {
      "cell_type": "markdown",
      "metadata": {
        "id": "kX19-UtHs_sO"
      },
      "source": [
        "## Masking"
      ]
    },
    {
      "cell_type": "markdown",
      "metadata": {
        "id": "JriNUN4D2HiY"
      },
      "source": [
        "Since some of the input sequences are padded with pad tokens (0), we need to mask out these parts of the input sequences so that the model does not treat it as input. The mask will be created as a tensor of the same shape as the input with ones in the positions that need to be masked.\n",
        "\n",
        "However, the network will be dealing with 3-dimensional or 4-dimensional tensors, rather than a simple 2D embedded sequence. Thus, the shape of the mask must be made broadcastable to n dimensions."
      ]
    },
    {
      "cell_type": "code",
      "metadata": {
        "id": "2SGGmbOMl5NG"
      },
      "source": [
        "def create_padding_mask(seq, n=4):\n",
        "  \"\"\"\n",
        "  Creates padding mask for a batch of sequences seq. Mask will be of shape\n",
        "  (batch_size, seq_len), and can be broadcasted to n dimensions\n",
        "  \"\"\"\n",
        "  mask = tf.cast(tf.equal(seq, 0), tf.float32) # mask is 1 where seq is 0\n",
        "  # reshape to # batch_size, 1, ..., 1. seq_len\n",
        "  return tf.reshape(mask, (tf.shape(mask)[0], *[1 for _ in range(n-2)], tf.shape(mask)[-1]))"
      ],
      "execution_count": null,
      "outputs": []
    },
    {
      "cell_type": "code",
      "metadata": {
        "id": "vK_CYbhFPoKl",
        "colab": {
          "base_uri": "https://localhost:8080/",
          "height": 119
        },
        "outputId": "354318e2-bd2d-412c-edc9-4aef64c1c294"
      },
      "source": [
        "# for example\n",
        "x = tf.constant([[7, 6, 0, 0, 1], [1, 2, 3, 0, 0], [0, 0, 0, 4, 5]])\n",
        "print(create_padding_mask(x, n=3))\n",
        "del x"
      ],
      "execution_count": null,
      "outputs": [
        {
          "output_type": "stream",
          "text": [
            "tf.Tensor(\n",
            "[[[0. 0. 1. 1. 0.]]\n",
            "\n",
            " [[0. 0. 0. 1. 1.]]\n",
            "\n",
            " [[1. 1. 1. 0. 0.]]], shape=(3, 1, 5), dtype=float32)\n"
          ],
          "name": "stdout"
        }
      ]
    },
    {
      "cell_type": "markdown",
      "metadata": {
        "id": "e-Wiqxco31Kf"
      },
      "source": [
        "Additionally, in the calculation of Scaled Dot Product Attention, the transformer must be prevented from looking ahead at future tokens, so that the next outputs of the model are based only on the current and previous tokens in the input sequence.\n",
        "\n",
        "This can be achieved by placing an upper triangular mask on the calculated Attention weights. Again, this will be 1 where the attention weights need to be zeroed, and zero otherwise. Unlike the case of the padding mask, where we need to know the values of the input sequences in order to create the mask, here the masking is the same for every input: an upper triangular matrix of ones of shape $(L, L)$ where $L$ is the length of the input sequence. We can create this just with $L$, without needing to input the sequence itself."
      ]
    },
    {
      "cell_type": "code",
      "metadata": {
        "id": "81Sr2D-u2-2W"
      },
      "source": [
        "def create_look_ahead_mask(seq_len):\n",
        "  \"\"\"\n",
        "  Creates an upper triangular mask of ones of shape (seq_len seq_len).\n",
        "  It is the same for all inputs of shape seq_len\n",
        "  \"\"\"\n",
        "  mask = 1 - tf.linalg.band_part(tf.ones((seq_len, seq_len)), -1, 0)\n",
        "  return tf.cast(mask, tf.float32) # (seq_len, seq_len)"
      ],
      "execution_count": null,
      "outputs": []
    },
    {
      "cell_type": "code",
      "metadata": {
        "id": "4oXabDN86OTG",
        "colab": {
          "base_uri": "https://localhost:8080/",
          "height": 292
        },
        "outputId": "4a144b43-7a9c-4a38-d12d-7a1ed8ef7d10"
      },
      "source": [
        "# example\n",
        "plt.matshow(create_look_ahead_mask(5))"
      ],
      "execution_count": null,
      "outputs": [
        {
          "output_type": "execute_result",
          "data": {
            "text/plain": [
              "<matplotlib.image.AxesImage at 0x7fda6546afd0>"
            ]
          },
          "metadata": {
            "tags": []
          },
          "execution_count": 235
        },
        {
          "output_type": "display_data",
          "data": {
            "image/png": "[encoded data removed]",
            "text/plain": [
              "<Figure size 288x288 with 1 Axes>"
            ]
          },
          "metadata": {
            "tags": [],
            "needs_background": "light"
          }
        }
      ]
    },
    {
      "cell_type": "markdown",
      "metadata": {
        "id": "Ne-eR-ia6iOh"
      },
      "source": [
        "At the stage when we need to input to the decoder, we have to create both a padding mask and a look ahead mask for the input batch. The correct final mask will be the maximum of these two, as the elements that need to be zeroed are represented by 1's, and those that need to be preserved are represented by 0's. "
      ]
    },
    {
      "cell_type": "code",
      "metadata": {
        "id": "upX2M5Qo6UrL"
      },
      "source": [
        "def create_mask(inp, n=4):\n",
        "  \"\"\"\n",
        "  function to create the proper mask for an input batch\n",
        "  mask = max(padding_mask, look_ahead_mask)\n",
        "\n",
        "  Args:\n",
        "    inp: batch tensor of input sequences of shape (..., seq_len)\n",
        "  \"\"\"\n",
        "  padding_mask = create_padding_mask(inp, n)\n",
        "  look_ahead_mask = create_look_ahead_mask(inp.shape[-1])\n",
        "\n",
        "  # create final mask\n",
        "  return tf.maximum(padding_mask, look_ahead_mask)"
      ],
      "execution_count": null,
      "outputs": []
    },
    {
      "cell_type": "code",
      "metadata": {
        "id": "3w05vKrN7aQq",
        "colab": {
          "base_uri": "https://localhost:8080/",
          "height": 253
        },
        "outputId": "5cd91074-de4f-4671-ad6e-47e3af5f430e"
      },
      "source": [
        "# example: create a final decoder mask - columns of same indices where pad_mask is 1 are entirely masked\n",
        "x = tf.constant([[7, 6, 0, 0, 1], [1, 2, 3, 0, 0], [0, 0, 0, 4, 5]])\n",
        "\n",
        "mask = create_mask(x, n=3)\n",
        "\n",
        "fig = plt.figure(figsize=(10, 10))\n",
        "rows = 1\n",
        "cols = 3\n",
        "labels = [\"cols 2, 3\", \"cols 3, 4\", \"cols 1, 2, 3\"]\n",
        "for i in range(rows*cols):\n",
        "  fig.add_subplot(rows, cols, i+1).set_title(\"Masked out upper tri & \" + labels[i])\n",
        "  plt.imshow(mask[i])\n",
        "fig.tight_layout()\n",
        "plt.show()\n",
        "del x, mask, rows, cols, labels"
      ],
      "execution_count": null,
      "outputs": [
        {
          "output_type": "display_data",
          "data": {
            "image/png": "[encoded data removed]",
            "text/plain": [
              "<Figure size 720x720 with 3 Axes>"
            ]
          },
          "metadata": {
            "tags": [],
            "needs_background": "light"
          }
        }
      ]
    },
    {
      "cell_type": "markdown",
      "metadata": {
        "id": "PVm0C-B47jHs"
      },
      "source": [
        "The calculation of attention relies on a softmax of attention weights, and the elements of the attention weights that need to be zeroed are indicated by 1's in the mask. By adding the mask, scaled by an extremely low value such as -1e9 (to mimic -inf), to the attention weights logits, and then softmaxing this sum, the positions at which the mask was 1 will be effectively zeroed."
      ]
    },
    {
      "cell_type": "markdown",
      "metadata": {
        "id": "1VMZWDQt7pLj"
      },
      "source": [
        "## Self-Attention with Relative Position Embeddings"
      ]
    },
    {
      "cell_type": "markdown",
      "metadata": {
        "id": "o8dLBVSocbMy"
      },
      "source": [
        "A modification given by Shaw et. al, 2018, improved by Huang et. al, 2018, to the Scaled Dot-Product Attention mechanism given in Vaswani et. al, 2017, which allows the Transformer model to attend to all relevant elements of the input sequences as well as the relative distances between them.\n",
        "\n",
        "$${\\text{RelativeAttention} = \\text{Softmax} \\left(\\frac{QK^\\top + S^{rel}}{\\sqrt{d_{k}}}\\right)V}$$\n",
        "\n",
        "Before attention can be computed, the input batch of sequences $X$ must be embedded to make it of shape $(..., L, d_{model})$, where $d_{model}$ is the size of the embeddings, from simply shape $(..., L)$. For attention to work properly, and for residual connections to be made conveniently, all inputs and outputs that the model deals with are associated with the shape $d_{model}$, which is why it is so named.\n",
        "\n",
        "For instance, the first step in the computation of attention is to _transform_ the input $X$ into 3 representations - the queries($Q$), keys($K$) and values($V$):\n",
        "\n",
        "$$Q = XW^Q$$\n",
        "$$K = XW^K$$\n",
        "$$V = XW^V$$\n",
        "\n",
        "$Q$, $K$, and $V$ are all determined by the parameter matrices $W$, which are learned by backpropagation. In order to preserve the shape of $X$ (i.e., keep $Q, K, V$ all shaped $(..., L, d_{model})$), these $W$ must be of shape $(d_{model}, d_{model})$.\n",
        "\n",
        "Now, the attention function in the transformer takes these three values - $Q$, $K$ and $V$ (and a last one, $E$) - as input. What we want the attention mechanism to achieve is to determines the \"amount\" of \"attention\" that each element in $X$ should pay attention to every other element in $X$ - that is, the importance of different positions of the sequence in constructing the sequence. This is achieved by the compatibility function $QK^\\top + S^{rel}$.\n",
        "\n",
        "Notice that $Q$ is of shape $(..., L, d_{model})$ and $K^\\top$ is of shape $(..., d_{model}, L)$. As a result, the matrix product $QK^\\top$ (and the additional relative position encoding $S^{rel}$) is of shape $(...,L, L)$. Given the goal of the attention mechanism, we would want the $i, j$ element of the output of the compatibility function to represent the amount of attention that the $ith$ element of the input sequence should pay to its $jth$ element. One can imagine that if $W^Q$ and $W^K$ were properly optimized by backpropagation, the representations of the input sequences in $Q$ by $XW^Q$ and in $K$ by $XW^K$ would be such that the matrix product $QK^\\top$ achieves this goal. \n",
        "\n",
        "The softmax turns these compatibilities into probabilities (0 to 1), and it is the softmax of the compatibilities that is multipled by $V$. What does this achieve? Well, the compatibility matrix in itself is virtually useless. All it is is a lookup table of how important element $i$ is to element $j$. By multiplying this compatibility matrix by $V$, what we do is distribute this information about the attention that every element in the sequence should pay to every other element in the sequence into every element of a representation of the input sequence itself. What this also achieves, the softmaxed values being between 0 and 1, is the minimization of unimportant values, and the maximization of the most important ones.\n",
        "\n",
        "However, without altering this configuration properly, elements of the compatibility matrix where $j>i$, would give the $ith$ position of the sequence information about a future position in the sequence, after which the model could simply learn to use this information in order to predict the future tokens, instead of paying attention to its previous and current inputs to do so. This is why the look_ahead_mask must be used on the compatibility matrix. All elements where $j>i$ are simply the upper triangle of the matrix, and so the look_ahead_mask is simply an upper triangular matrix of the same shape.\n",
        "\n",
        "Lastly, the compatibility matrix is scaled by $1/\\sqrt{d_{k}}$ before softmaxing, where $d_k$ is the length of the embeddings for each sequence in $K$ (i.e., shape of last axis), in order to counteract the problem of vanishing gradients when computing softmax (Vaswani et. al, 2017). \n",
        "\n",
        "But where does $E$ come into this, and what is $S^{rel}$?\n"
      ]
    },
    {
      "cell_type": "markdown",
      "metadata": {
        "id": "as9XtVwAntFb"
      },
      "source": [
        "### Skewing"
      ]
    },
    {
      "cell_type": "markdown",
      "metadata": {
        "id": "os8zEQKew6Q2"
      },
      "source": [
        "While the computation of attention given in Vaswani et. al, 2017 is simply:\n",
        "\n",
        "$${\\text{Attention}(Q, K, V) = \\text{Softmax}\\left(\\frac{QK^\\top}{\\sqrt{d_k}}\\right)V}\\tag{1}$$\n",
        "\n",
        "Shaw et. al, 2018 proposed the addition of a $(..., L, L)$ tensor $S^{rel}$ to the calculation of the softmax logits (as well as to $V$, but we can ignore that one for reasons of space and time complexity) in order to inject information about the relative distances between positions in the sequence into the calculation of attention. One can imagine that without information about the importance of the positions itself, the model would learn how important each element is in the sequence, but not in relation to its actual position in the sequence. This is why positional encoding is necessary. \n",
        "\n",
        "The calculation of $S^{rel}$ was greatly improved on by Huang et. al, 2018:\n",
        "\n",
        "$${S^{rel} = \\text{skew}\\left(QE^\\top\\right)}\\tag{2}$$\n",
        "\n",
        "$Q$ is our queries matrix $XW^Q$, but $E$ is more interesting. $E$ is a set of embeddings for each possible relative distance in the sequence from $-L_{max} + 1$ to 0 (where $L_{max}$ is a maximum relative distance to consider - this has to be predefined). \n",
        "\n",
        "As was stated before, in the computation of the attention logits (the compatibility matrix before being softmaxed), the $i, j$ element describes how much attention the $ith$ position of the sequence should pay to the $jth$ position of the sequence. If we were to inject information about relative position into this calculation with $S^{rel}$, we would therefore want the $i, j$ element of $S^{rel}$ to represent the importance of the relative distance $(j-i)$ for the $ith$ element of the sequence. \n",
        "\n",
        "The way we inject this information is by letting the Relative Position Embeddings $E$ interact with the Queries tensor $Q$, giving rise to a new tensor $S^{rel}$, and then simply adding this information to the vanilla attention logits $(QK^\\top)$. \n",
        "\n",
        "Before this, however, we must slice the last $L$ embeddings from $E$ (the embeddings for relative distances of $-L+1$ to $0$) and to calculate the matrix product $QE^\\top$, or if $L > L_{max}$ (i.e., the input sequence length is greater than the maximum relative distance to consider), we simply use the last relative position embedding (for a relative distance of $-L_{max}+1$) for all indices past this relative distance. This slice is necessary to preserve shape ($QE^\\top$ will be of shape $(..., L, L)$, which is the same shape as $QK^\\top$ and the two can simply be added). Additionally, what we get out of computing this matrix product is the product of every query $Q_i$ with every relative position embedding $E_j$, thus instantiating a tensor whose elements describe the importance of a relative distance of $j$ to the $ith$ element in the sequence.\n",
        "\n",
        "However, simply now adding this matrix product $QE^\\top$ to $QK^\\top$ would not inject the correct relative position information at the required indices, because its $i, j$ element does not descibe the importance of a relative distance of $(j-i)$ to the $ith$ elemtn of the sequence.\n",
        "\n",
        "How do we get around this? First, let's visualize the problem. Consider $E$ to be a set of embedding vectors $E_j$ of length $d_{model}$, ordered from $-L + 1$ to $0$, i.e., $E=(E_{-L+1}, E_{-L+2}, ..., E_0)$, and, for 1 sequence, consider the Queries matrix to be a set of $L$ vectors $Q_i$ each of length $d_{model}$, $Q=(Q_0, Q_1,...,Q_{L-1})$. Then, it is easy to see that the matrix product $QE^\\top$ does not achieve the desired ordering, because the $i, j$ element of $QE^\\top$ does not necessarily incorporate the embedding for a relative distance of $(j-i)$:\n",
        "\n",
        "$$\\begin{equation*}\n",
        "\\pmatrix{Q_0 \\\\ Q_1 \\\\ \\vdots \\\\ Q_{L-2} \\\\ Q_{L-1}} \\cdot\n",
        "\\pmatrix{E_{-L+1} & E_{-L+2} & \\cdots & E_{-1} & E_0} =\n",
        "\\begin{pmatrix}\n",
        "Q_0E_{-L+1} & Q_0E_{-L+2} & \\cdots & Q_0E_{-1} & Q_0E_0 \\\\\n",
        "Q_1E_{-L+1} & Q_1E_{-L+2} & \\cdots & Q_1E_{-1} & Q_1E_0 \\\\\n",
        "\\vdots & \\vdots & \\ddots & \\vdots & \\vdots \\\\\n",
        "Q_{L-2}E_{-L+1} & Q_{L-2}E_{-L+2} & \\cdots & Q_{L-2}E_{-1} & Q_{L-2}E_0 \\\\\n",
        "Q_{L-1}E_{-L+1} & Q_{L-1}E_{-L+2} & \\cdots & Q_{L-1}E_{-1} & Q_{L-1}E_0 \\\\\n",
        "\\end{pmatrix}\n",
        "\\end{equation*}$$\n",
        "\n",
        "Nevertheless, this matrix contains all the information we need to inject this information correctly - every $Q_i$ multiplied by every $E_j$, and we just need to order it so that the $i, j$ element of the matrix is of the form $Q_iE_{j-i}$. Huang et. al, 2018 implemented the skewing algorithm to do this.\n",
        "\n",
        "To understand skewing, imagine the desired ordering. In this ordering, the main diagonal would consist of $Q_iE_0$ - at the $i, i$ position of the matrix, the relative distance to be injected would be 0. Furthermore, along the diagonal just under the main diagonal - the $i, (i-1)$ elements of the matrix - all elements would be $Q_iE_{-1}$. As visible in the above matrix, these elements are given in the last 2 columns - the elements we want along the main diagonal are in the last column, and the elements we want along the diagonal just under it are in the first column from the last.\n",
        "\n",
        "Nevertheless, although we have $L$ elements along the last column, which would fit the main diagonal, we also have $L$ elements in the first column from the last, which is one more than would fit the diagonal just under the main. Nevertheless, if we look closely, we see that we can exclude the first entry, $Q_0E_{-1}$, from this second-to-last column. This is because it has no meaning - the 0th element in the sequence does not have any previous elements, and so cannot have a relative distance of (-1) to any other element of the sequence. Similarly, the first two elements in the third-to-last column of $QE^\\top$, where the queries are multiplied by $E_{-2}$ – $Q_0E_{-2}$ and $Q_1E_{-2}$ – can be ignored, because there are no elements in the sequence that are (-2) positions away from the 0th and 1st positions in the sequence. And so on, so that the last $L-n$ elements of the $nth$ column from the last can fit the $nth$ diagonal under the main.\n",
        "\n",
        "Now, we know where the information we want is (the columns from the last in $QE^\\top$), and we know where we want it to go to make $S^{rel}$ (the diagonals on and under the main). If we could just **skew** the elements of $QE^\\top$ in the columns from the right into the desired diagonals, we would get $S^{rel}$, and we could just add it to $QK^\\top$ in the calculation of the attention logits in order to properly encode relative position. And so, the skewing algorithm was made:\n",
        "1. Pad $QE^\\top$ with a dummy vector of length $L$ to the left\n",
        "2. Reshape the matrix from shape $(..., L, L+1)$ to shape $(..., L+1, L)$\n",
        "3. Slice the last $L$ rows from the second-to-last axis of this tensor - this is $S^{rel}$\n",
        "\n",
        "So finally,\n",
        "\n",
        "$${\\text{RelativeAttention}(Q, K, V, E) = \\text{Softmax} \\left(\\frac{QK^\\top + \\text{skew}\\left(QE^\\top\\right)}{\\sqrt{d_{k}}}\\right)V}\\tag{3}$$\n",
        "\n",
        "Isn't that cool?\n",
        "\n",
        "Another benefit of skewing is that once all the required elements are placed on or below the main diagonal in $\\text{skew}(QE^\\top)$, all irrelevant elements in the upper triangle will be masked out by the look_ahead_mask.\n"
      ]
    },
    {
      "cell_type": "code",
      "metadata": {
        "id": "GjrbDLlU8Pr7"
      },
      "source": [
        "def skew(t: tf.Tensor):\n",
        "  \"\"\"\n",
        "  Implements skewing algorithm given by Huang et. al 2018 to reorder the\n",
        "  dot(Q, RelativePositionEmbeddings) matrix into the correct ordering for which\n",
        "  Tij = compatibility of ith query in Q with relative position (j - i)\n",
        "\n",
        "  This implementation accounts for rank n tensors\n",
        "\n",
        "  Algorithm:\n",
        "      1. Pad T\n",
        "      2. Reshape\n",
        "      3. Slice\n",
        "\n",
        "  T is supposed to be of shape (..., L, L), but the function generalizes to any shape\n",
        "  \"\"\"\n",
        "  # pad the input tensor\n",
        "  middle_paddings = [[0, 0] for _ in range(len(t.shape) - 1)]\n",
        "  padded = tf.pad(t, [*middle_paddings, [1, 0]])\n",
        "\n",
        "  # reshape\n",
        "  Srel = tf.reshape(padded, (-1, t.shape[-1] + 1, t.shape[-2]))\n",
        "  Srel = Srel[:, 1:] # slice required positions\n",
        "  return tf.cast(tf.reshape(Srel, t.shape), t.dtype)"
      ],
      "execution_count": null,
      "outputs": []
    },
    {
      "cell_type": "code",
      "metadata": {
        "id": "IWy8J_1c9L84",
        "colab": {
          "base_uri": "https://localhost:8080/",
          "height": 438
        },
        "outputId": "0d433049-1c63-4c4d-c0e0-a26c32cb77ec"
      },
      "source": [
        "# example\n",
        "u = tf.constant([[0, 1, 1, 0, 2], \\\n",
        "                 [1, 0, 0, 3, 2], \\\n",
        "                 [1, 1, 5, 3, 2], \\\n",
        "                 [0, 7, 5, 3, 2], \\\n",
        "                 [9, 7, 5, 3, 2]], dtype=tf.float32)\n",
        "plots = [u, skew(u)]\n",
        "fig = plt.figure(figsize=(10, 6.5))\n",
        "rows = 1\n",
        "cols = 2\n",
        "labels = ['u', 'skew(u)']\n",
        "fig.suptitle(\"Columns from the right are skewed into diagonals on and under the main, and elements\\n\"\\\n",
        "             \"not in these columns are thrown into the upper triangle and/or replaced by zeros\", \\\n",
        "             fontsize=15) \n",
        "for i in range(rows*cols):\n",
        "  fig.add_subplot(1, 2, i+1).set_title(labels[i], fontsize=14)\n",
        "  plt.imshow(plots[i], cmap='viridis')\n",
        "fig.tight_layout()\n",
        "plt.show()\n",
        "del u, plots, fig, rows, cols, labels"
      ],
      "execution_count": null,
      "outputs": [
        {
          "output_type": "display_data",
          "data": {
            "image/png": "[encoded data removed]",
            "text/plain": [
              "<Figure size 720x468 with 2 Axes>"
            ]
          },
          "metadata": {
            "tags": [],
            "needs_background": "light"
          }
        }
      ]
    },
    {
      "cell_type": "markdown",
      "metadata": {
        "id": "RpVltTpV_fwf"
      },
      "source": [
        "### Relative Scaled Dot Product Attention"
      ]
    },
    {
      "cell_type": "markdown",
      "metadata": {
        "id": "znAaQcoii6lJ"
      },
      "source": [
        "Given the skewing algorithm, we can now define the Relative Attention function. This function is technically called Relative Scaled Dot Product Attention."
      ]
    },
    {
      "cell_type": "code",
      "metadata": {
        "id": "Sy6f_403XIau"
      },
      "source": [
        "def rel_scaled_dot_prod_attention(q, k, v, e, mask=None):\n",
        "  \"\"\"\n",
        "  Implements equation 3 given in the previous section to calculate the attention weights,\n",
        "  Mask has different shapes depending on its type (padding, look_ahead or combined),\n",
        "  but by scaling and adding it to the attention logits, masking can be performed\n",
        "\n",
        "  Attention = softmax(mask(QKT + skew(QET))/sqrt(d_k))V\n",
        "\n",
        "  Args:\n",
        "    q: Queries matrix of shape (..., seq_len_q, d_model)\n",
        "    k: Keys matrix of shape (..., seq_len_k, d_model)\n",
        "    v: Values matrix of shape (..., seq_len_k, d_model)\n",
        "    e: Relative Position embedding matrix of shape (seq_len_k, d_model)\n",
        "  \n",
        "  Returns:\n",
        "    output attention, attention weights\n",
        "  \"\"\"\n",
        "  QKt = tf.matmul(q, k, transpose_b=True) # (..., seq_len_q, seq_len_k)\n",
        "  Srel = skew(tf.matmul(q, e, transpose_b=True)) # (..., seq_len_q, seq_len_k)\n",
        "\n",
        "  # calculate and scale logits\n",
        "  dk = math.sqrt(k.shape[-1])\n",
        "  scaled_attention_logits = (QKt + Srel) / dk\n",
        "\n",
        "  # add the mask to the attention logits\n",
        "  if mask is not None:\n",
        "    scaled_attention_logits += (mask * -1e09) # mask is added only to attention logits\n",
        "  \n",
        "  # softmax is normalized on the last axis so that the ith row adds up to 1\n",
        "  # this is best for multiplication by v because the last axis (made into \n",
        "  # probabilities) interacts with the values v\n",
        "  attention_weights = tf.nn.softmax(scaled_attention_logits, axis=-1) # (..., seq_len_q, seq_len_k)\n",
        "\n",
        "  output = tf.matmul(attention_weights, v) # (..., seq_len_q, d_k)\n",
        "  return output, attention_weights"
      ],
      "execution_count": null,
      "outputs": []
    },
    {
      "cell_type": "markdown",
      "metadata": {
        "id": "HjtgGUL9_AXB"
      },
      "source": [
        "As softmax is performed on the last axis of the attention weights, whose dimensions are determined by $K$, the values in the Keys determine the importance of each Query in $Q$.\n",
        "\n",
        "The (softmaxed) attention weights being multiplied by $V$ to calculate the output ensures that the positions of the queries sequence that you want to focus on are kept, while those that are less important are zeroed out."
      ]
    },
    {
      "cell_type": "code",
      "metadata": {
        "id": "hsuPSvFs7gZD",
        "colab": {
          "base_uri": "https://localhost:8080/",
          "height": 85
        },
        "outputId": "82d37b77-8820-419d-a47f-10e438b4ea21"
      },
      "source": [
        "# examples of attention\n",
        "temp_k = tf.constant([[0, 0, 10], [0, 10, 0], [10, 0, 0], [10, 0, 0]], dtype=tf.float32)\n",
        "temp_v = tf.constant([[4, 2, 1], [5, 6, 3], [7, 8, 10], [9, 12, 45]], dtype=tf.float32)\n",
        "temp_e = tf.zeros_like(temp_k) #zero the relative position embeddings to demonstrate original attention\n",
        "\n",
        "temp_q = tf.constant([[0, 10, 0]], dtype=tf.float32)\n",
        "attn, attn_weights = rel_scaled_dot_prod_attention(temp_q, temp_k, temp_v, temp_e)\n",
        "print(\"Attention weights are,\")\n",
        "print(attn_weights)\n",
        "print(\"Output Attention is,\")\n",
        "print(attn)"
      ],
      "execution_count": null,
      "outputs": [
        {
          "output_type": "stream",
          "text": [
            "Attention weights are,\n",
            "tf.Tensor([[8.4332744e-26 1.0000000e+00 8.4332744e-26 8.4332744e-26]], shape=(1, 4), dtype=float32)\n",
            "Output Attention is,\n",
            "tf.Tensor([[5. 6. 3.]], shape=(1, 3), dtype=float32)\n"
          ],
          "name": "stdout"
        }
      ]
    },
    {
      "cell_type": "markdown",
      "metadata": {
        "id": "_BvVoufsYG76"
      },
      "source": [
        "Notice that since ```temp_q``` corresponded to ```\n",
        "temp_k[1]```, the attention weights are maximum at that index, and the output attention is that value in ```temp_v```. The query aligned with a specific key, and thus prioritized the corresponding value to pay attention to."
      ]
    },
    {
      "cell_type": "code",
      "metadata": {
        "id": "-RMDOnvVaOFB",
        "colab": {
          "base_uri": "https://localhost:8080/",
          "height": 85
        },
        "outputId": "7aa0e6c3-0d9a-4942-e0a2-f31629c64528"
      },
      "source": [
        "# we should also see how relative position embeddings change the output\n",
        "temp_q = tf.constant([[0, 10, 0]], dtype=tf.float32) # aligns with second key\n",
        "\n",
        "temp_e = tf.constant([[-1, -1, -10], [2, 2, 2], [1, 1, 1], [4, 4, 4]], dtype=tf.float32)\n",
        "\n",
        "attn, attn_weights = rel_scaled_dot_prod_attention(temp_q, temp_k, temp_v, temp_e)\n",
        "print(\"Attention weights are,\")\n",
        "print(attn_weights)\n",
        "print(\"Output Attention is,\")\n",
        "print(attn)"
      ],
      "execution_count": null,
      "outputs": [
        {
          "output_type": "stream",
          "text": [
            "Attention weights are,\n",
            "tf.Tensor([[2.5339164e-33 1.0000000e+00 2.6217687e-28 8.7255939e-21]], shape=(1, 4), dtype=float32)\n",
            "Output Attention is,\n",
            "tf.Tensor([[5. 6. 3.]], shape=(1, 3), dtype=float32)\n"
          ],
          "name": "stdout"
        }
      ]
    },
    {
      "cell_type": "markdown",
      "metadata": {
        "id": "k3mMriKSbiS8"
      },
      "source": [
        "Above, we can see that since the query aligned with the second key, and since the highest embedding is that for relative distance of 0 (the very last embedding vector), this position was prioritized and the second value was output. However, changing ```temp_q``` to align with the first key:"
      ]
    },
    {
      "cell_type": "code",
      "metadata": {
        "id": "bln27tOEbhej",
        "colab": {
          "base_uri": "https://localhost:8080/",
          "height": 85
        },
        "outputId": "4d26a901-854b-4665-c3df-879708f3a7e1"
      },
      "source": [
        "temp_q = tf.constant([[0, 0, 10]], dtype=tf.float32)\n",
        "\n",
        "temp_v = tf.constant([[4, 2, 1], [5, 6, 3], [7, 8, 10], [9, 12, 45]], dtype=tf.float32)\n",
        "temp_e = tf.constant([[-1, -1, -10], [2, 2, 2], [1, 1, 1], [4, 4, 4]], dtype=tf.float32)\n",
        "\n",
        "attn, attn_weights = rel_scaled_dot_prod_attention(temp_q, temp_k, temp_v, temp_e)\n",
        "print(\"Attention weights are,\")\n",
        "print(attn_weights)\n",
        "print(\"Output Attention is,\")\n",
        "print(attn)"
      ],
      "execution_count": null,
      "outputs": [
        {
          "output_type": "stream",
          "text": [
            "Attention weights are,\n",
            "tf.Tensor([[9.3410162e-11 9.6648464e-06 3.0046529e-08 9.9999034e-01]], shape=(1, 4), dtype=float32)\n",
            "Output Attention is,\n",
            "tf.Tensor([[ 8.999962 11.999942 44.999596]], shape=(1, 3), dtype=float32)\n"
          ],
          "name": "stdout"
        }
      ]
    },
    {
      "cell_type": "markdown",
      "metadata": {
        "id": "YNApJArpeeEs"
      },
      "source": [
        "We see that even though the query aligned with the first key, the output attention is closer to the last value. This is because of the high embedding in the last index of ```temp_e```. Even though it corresponds to a relative distance of 0, the highest value in $S^{rel}$ is the matrix multiplication ```q @ temp_e[-1].transpose```, simply because of the value of that embedding. In order to get the desired output, we have to mask out those values."
      ]
    },
    {
      "cell_type": "code",
      "metadata": {
        "id": "mxF8980ueZ4y",
        "colab": {
          "base_uri": "https://localhost:8080/",
          "height": 85
        },
        "outputId": "e82b4032-ff5a-4d20-ba97-f8870f65bc76"
      },
      "source": [
        "attn, attn_weights = rel_scaled_dot_prod_attention(temp_q, temp_k, temp_v, temp_e,\\\n",
        "                                                   mask=create_look_ahead_mask(temp_k.shape[-2])[0])\n",
        "print(\"Attention weights are,\")\n",
        "print(attn_weights)\n",
        "print(\"Output Attention is,\")\n",
        "print(attn)\n",
        "del temp_k, temp_v, temp_e, temp_q, attn, attn_weights"
      ],
      "execution_count": null,
      "outputs": [
        {
          "output_type": "stream",
          "text": [
            "Attention weights are,\n",
            "tf.Tensor([[1. 0. 0. 0.]], shape=(1, 4), dtype=float32)\n",
            "Output Attention is,\n",
            "tf.Tensor([[4. 2. 1.]], shape=(1, 3), dtype=float32)\n"
          ],
          "name": "stdout"
        }
      ]
    },
    {
      "cell_type": "markdown",
      "metadata": {
        "id": "mv3Bt2McghJs"
      },
      "source": [
        "And we get the first value, as desired. We can also play around with the embeddings to see how we can query one element to get a previous element, or an average of the current and previous elements, depending on the relative position embeddings:"
      ]
    },
    {
      "cell_type": "code",
      "metadata": {
        "id": "jAhd2uVZhPpi",
        "colab": {
          "base_uri": "https://localhost:8080/",
          "height": 221
        },
        "outputId": "9c15e165-ba05-49b5-ab91-e49c22957bd8"
      },
      "source": [
        "# play around with temp_q and temp_e\n",
        "temp_k = tf.constant([[0, 0, 10], [0, 10, 0], [10, 0, 0], [0, 0, 510]], dtype=tf.float32)\n",
        "temp_v = tf.constant([[4, 2, 1], [5, 6, 3], [7, 8, 10], [9, 12, 45]], dtype=tf.float32)\n",
        "\n",
        "temp_q = temp_k\n",
        "\n",
        "# highest embedding is for distance of -2, and second highest is for 0\n",
        "# so for the first 2 values, the distance of -2 is masked out, and it outputs the \n",
        "# positions of relative distance 0\n",
        "# but for the last 2, the values 2 positions behind are output\n",
        "temp_e = tf.constant([[0, 0, 0], [1000000, 1000000, 1000000], [0, 0, 0], [100, 100, 100]], dtype=tf.float32)\n",
        "\n",
        "attn, attn_weights = rel_scaled_dot_prod_attention(temp_q, temp_k, temp_v, temp_e,\\\n",
        "                                                   mask=create_look_ahead_mask(temp_k.shape[-2]))\n",
        "print(\"Attention weights are,\")\n",
        "print(attn_weights)\n",
        "print(\"Output Attention is,\")\n",
        "print(attn)\n",
        "del temp_k, temp_v, temp_e, temp_q, attn, attn_weights"
      ],
      "execution_count": null,
      "outputs": [
        {
          "output_type": "stream",
          "text": [
            "Attention weights are,\n",
            "tf.Tensor(\n",
            "[[1. 0. 0. 0.]\n",
            " [0. 1. 0. 0.]\n",
            " [1. 0. 0. 0.]\n",
            " [0. 1. 0. 0.]], shape=(4, 4), dtype=float32)\n",
            "Output Attention is,\n",
            "tf.Tensor(\n",
            "[[4. 2. 1.]\n",
            " [5. 6. 3.]\n",
            " [4. 2. 1.]\n",
            " [5. 6. 3.]], shape=(4, 3), dtype=float32)\n"
          ],
          "name": "stdout"
        }
      ]
    },
    {
      "cell_type": "markdown",
      "metadata": {
        "id": "7GiACiBAZ_R4"
      },
      "source": [
        "In this way, the attention function is able to decide which values in the sequence to pay attention to in order to predict the next tokens, and is aided in this with the correct relative position embeddings."
      ]
    },
    {
      "cell_type": "markdown",
      "metadata": {
        "id": "E3pD5MGDmzPV"
      },
      "source": [
        "### Multi-Head Attention"
      ]
    },
    {
      "cell_type": "markdown",
      "metadata": {
        "id": "SzUHpmS_sTs8"
      },
      "source": [
        "Instead of performing the attention on $d_{model}$-dimensional $Q$, $K$, and $V$, Vaswani et. al, 2017 found it beneficial to compute attention for these tensors along  $h$ different \"heads.\" \n",
        "\n",
        "One can see why this is beneficial simply by looking at the matrix transformations that take place. First, $Q$, $K$, $V$ and $E$ are split to have different parts of their _embeddings_ (not different parts of the sequence) along $h$ different heads. In doing so, each head is given embeddings from each tensor of length $d_h$, where $d_h = \\frac{d_{model}}{h}$:\n",
        "\n",
        "$$\\begin{matrix}\n",
        "Q \\\\\n",
        "K \\\\\n",
        "V\n",
        "\\end{matrix} \\Bigg\\} \\:\\text{shape}(..., L, d_{model}) \\rightarrow \\text{shape}(..., h, L, d_h) $$\n",
        "\n",
        "$E$ is also reshaped from $(L, d_{model})$ to $(h, L, d_h)$. \n",
        "\n",
        "Now, along each of these heads, we compute ```rel_scaled_dot_prod_attention```, and at each head, attention weights of shape $(..., L, L)$ are produced, due to the deliberate reshaping of the input tensors. That is, attention weights are calculated $h$ times (though with resolution downsampled from $d_{model}$ to $d_h$). This means that the model creates $h$ different representations of the amount of attention that each position in each input sequence should pay to every previous position in the sequence. This allows the network to attend to information from several different representations simultaneously, increasing accuracy, as well as making the calculation of attention slightly quicker by computing attention over $h$ smaller tensors in parallel.\n",
        "\n",
        "After multiplication of the attention weights at each head by the $V$ tensor for that head, $V_i, i \\in \\{1...h\\}$, $h$ tensors of shape $(..., L, d_h)$ are created for each sequence in the batch. They can then be concatenated back to a tensor of shape $(..., L, d_{model})$ to get back to the original shaping. Vaswani et. al, 2017 also project this Multi-Head Attention with a final parameter matrix $W^O$ of shape $(d_{model}, d_{model})$ to get the final output. Thus:\n",
        "\n",
        "$$\\text{MultiHeadRelativeAttention} = Concat\\left(\\text{head}_1, ..., \\text{head}_h\\right) W^O \\\\\n",
        "\\text{head}_i = \\text{RelativeAttention}(Q_i, K_i, V_i, E_i)$$\n",
        "\n",
        "As was stated earlier, $Q$, $K$, and $V$ are computed from $X$, the input batch of sequences. We can encode this calculation, as well as the instantiation and use of the Relative Position Embedding Matrix, $E$, into the ```MultiHeadAttention``` block. But first, we must define some helper functions."
      ]
    },
    {
      "cell_type": "code",
      "metadata": {
        "id": "kBRzV-5QtsbQ"
      },
      "source": [
        "# helper function\n",
        "def split_heads(x, num_heads, depth=None):\n",
        "  \"\"\"\n",
        "  assumes x is of shape (..., num_heads * depth)\n",
        "  split the last dimension of x into (num_heads, depth),\n",
        "  transposes to (..., num_heads, L, depth)\n",
        "  \"\"\"\n",
        "  if depth is None:\n",
        "    assert x.shape[-1] % num_heads == 0\n",
        "    depth = x.shape[-1] // num_heads\n",
        "\n",
        "  # split d_model into h, d_h\n",
        "  x = tf.reshape(x, (*x.shape[:-1], num_heads, depth)) # (..., L, num_heads, depth)\n",
        "\n",
        "  # transpose axes -2 and -3 - tf specifies this with perm so all this fluff needs to be done\n",
        "  final_perm = len(x.shape) - 1\n",
        "  prior_perms = np.arange(0, final_perm - 2) # axes before the ones that need to be transposed\n",
        "\n",
        "  # transpose to shape (..., num_heads, L, depth)\n",
        "  return tf.transpose(x, perm=[*prior_perms, final_perm-1, final_perm-2, final_perm]) "
      ],
      "execution_count": null,
      "outputs": []
    },
    {
      "cell_type": "code",
      "metadata": {
        "id": "86hHr9cUudKl",
        "colab": {
          "base_uri": "https://localhost:8080/",
          "height": 34
        },
        "outputId": "5ca6db81-e2c3-4f6c-f047-a22fd5af21da"
      },
      "source": [
        "# test\n",
        "t = tf.random.normal((64, 10, 200))\n",
        "print(split_heads(t, 8, 25).shape)\n",
        "del t"
      ],
      "execution_count": null,
      "outputs": [
        {
          "output_type": "stream",
          "text": [
            "(64, 8, 10, 25)\n"
          ],
          "name": "stdout"
        }
      ]
    },
    {
      "cell_type": "code",
      "metadata": {
        "id": "fQkJviPCwJG6"
      },
      "source": [
        "# another helper function\n",
        "def get_required_embeddings(E, seq_len, max_len=None):\n",
        "  \"\"\"\n",
        "  Given an input sequence of length seq_len, which does not necessary equal max_len, the \n",
        "  maximum relative distance the model is set to handle, embeddings in E from the right are \n",
        "  the required relative positional embeddings\n",
        "  Embeddings have to be taken from the right because E is considered to be \n",
        "  ordered from -max_len + 1 to 0\n",
        "  For all positions distanced past -max_len + 1, use E_{-max_len + 1}\n",
        "  \"\"\"\n",
        "  if not E.built:\n",
        "    E.build(seq_len)\n",
        "  if max_len is None:\n",
        "    max_len = E.embeddings.get_shape()[0] # assumes E is a keras.layers.Embedding\n",
        "  \n",
        "  if max_len >= seq_len:\n",
        "    seq_len = min(seq_len, max_len)\n",
        "    return E(np.arange(max_len - seq_len, max_len))\n",
        "  \n",
        "  return tf.concat(\n",
        "      values=[*[E(np.arange(0, 1)) for _ in range(seq_len - max_len)], E(np.arange(0, max_len))], \n",
        "      axis=0\n",
        "  )"
      ],
      "execution_count": null,
      "outputs": []
    },
    {
      "cell_type": "code",
      "metadata": {
        "id": "02aF4BLxvH-t",
        "colab": {
          "base_uri": "https://localhost:8080/",
          "height": 34
        },
        "outputId": "1d1975b0-f20d-40c5-87d2-e2f6706f63ab"
      },
      "source": [
        "# test\n",
        "E = tf.keras.layers.Embedding(400, 200)\n",
        "print(get_required_embeddings(E, 500).shape)\n",
        "del E"
      ],
      "execution_count": null,
      "outputs": [
        {
          "output_type": "stream",
          "text": [
            "(500, 200)\n"
          ],
          "name": "stdout"
        }
      ]
    },
    {
      "cell_type": "markdown",
      "metadata": {
        "id": "N6nFS9fkuksc"
      },
      "source": [
        "Now we can define the ```MultiHeadAttention``` block."
      ]
    },
    {
      "cell_type": "code",
      "metadata": {
        "id": "7BoQ_lwlsajJ"
      },
      "source": [
        "class MultiHeadAttention(tf.keras.layers.Layer):\n",
        "  def __init__(self, d_model, num_heads, max_rel_dist=MAX_REL_DIST, use_bias=True):\n",
        "    super(MultiHeadAttention, self).__init__()\n",
        "    self.num_heads = num_heads\n",
        "    self.d_model = d_model\n",
        "    self.max_len = max_rel_dist\n",
        "\n",
        "    assert d_model % num_heads == 0, \"d_model must be divisible into num_heads\"\n",
        "\n",
        "    self.depth = self.d_model // self.num_heads\n",
        "\n",
        "    self.wq = tf.keras.layers.Dense(d_model, use_bias=use_bias) # parameter matrix to generate Q from input\n",
        "    self.wk = tf.keras.layers.Dense(d_model, use_bias=use_bias) # parameter matrix to generate K from input\n",
        "    self.wv = tf.keras.layers.Dense(d_model, use_bias=use_bias) # parameter matrix to generate V from input\n",
        "\n",
        "    self.E = tf.keras.layers.Embedding(self.max_len, self.d_model) # relative position embeddings\n",
        "\n",
        "    self.wo = tf.keras.layers.Dense(d_model, use_bias=use_bias) # final output parameter matrix\n",
        " \n",
        "  def call(self, q, k, v, mask=None):\n",
        "    \"\"\"\n",
        "    Creates Q, K, and V, gets required embeddings in E, splits into heads,\n",
        "    computes attention, concatenates, and passes through final output layer\n",
        "    \"\"\"\n",
        "    # Get Q, K, V\n",
        "    q = self.wq(q) # (batch_size, seq_len, d_model)\n",
        "    k = self.wk(k) # (batch_size, seq_len, d_model)\n",
        "    v = self.wv(v) # (batch_size, seq_len, d_model)\n",
        "    \n",
        "    # Get E\n",
        "    seq_len_k = k.shape[-2]\n",
        "    e = get_required_embeddings(self.E, seq_len_k, self.max_len) # (seq_len_k, d_model)\n",
        "\n",
        "    # split into heads\n",
        "    q = split_heads(q, self.num_heads, self.depth) # (batch_size, h, seq_len_q, depth)\n",
        "    k = split_heads(k, self.num_heads, self.depth) # (batch_size, h, seq_len_k, depth)\n",
        "    v = split_heads(v, self.num_heads, self.depth) # (batch_size, h, seq_len_k, depth)\n",
        "    e = split_heads(e, self.num_heads, self.depth) # (            h, seq_len_k, depth)\n",
        "\n",
        "    # rel_scaled_attention shape = (batch_size, h, seq_len_q, depth)\n",
        "    # attention_weights shape = (batch_size, h, seq_len_q, seq_len_k)\n",
        "    rel_scaled_attention, attention_weights = rel_scaled_dot_prod_attention(q, k, v, e, mask=mask)\n",
        "\n",
        "    # transpose rel_scaled_attention back to (batch_size seq_len_q, h, depth)\n",
        "    final_perm = len(rel_scaled_attention.shape) - 1 # can't use rank for some reason\n",
        "    prior_perms = np.arange(0, final_perm - 2) # axes before the ones that need to be transposed\n",
        "    rel_scaled_attention = tf.transpose(rel_scaled_attention,\n",
        "                                        perm=[*prior_perms, final_perm-1, final_perm-2, final_perm])\n",
        "\n",
        "    # concatenate heads -> (batch_size, seq_len, d_model)\n",
        "    sh = rel_scaled_attention.shape\n",
        "    concat_attention = tf.reshape(rel_scaled_attention, (*sh[:-2], self.d_model)) \n",
        "\n",
        "    output = self.wo(concat_attention)\n",
        "\n",
        "    return output, attention_weights"
      ],
      "execution_count": null,
      "outputs": []
    },
    {
      "cell_type": "code",
      "metadata": {
        "id": "gqPrQMQbIQwH",
        "colab": {
          "base_uri": "https://localhost:8080/",
          "height": 68
        },
        "outputId": "de7d6e9c-502e-4f1f-9f87-d8f6552a274b"
      },
      "source": [
        "# Create a MultiHeadAttention Block to test\n",
        "t = tf.random.uniform((10, 1500, 256))\n",
        "mha = MultiHeadAttention(256, 8, use_bias=True)\n",
        "out, attn = mha(t, t, t, create_mask(tf.random.uniform((10, 1500))))\n",
        "\n",
        "print(f\"Shape of the output: {out.shape}\")\n",
        "print(f\"Shape of the attention weights: {attn.shape}\")\n",
        "print(f\"Number of trainable variables in the MHA block: {len(mha.trainable_variables)}\")\n",
        "del t, mha, out, attn"
      ],
      "execution_count": null,
      "outputs": [
        {
          "output_type": "stream",
          "text": [
            "Shape of the output: (10, 1500, 256)\n",
            "Shape of the attention weights: (10, 8, 1500, 1500)\n",
            "Number of trainable variables in the MHA block: 9\n"
          ],
          "name": "stdout"
        }
      ]
    },
    {
      "cell_type": "markdown",
      "metadata": {
        "id": "VA8SXpFPj7O9"
      },
      "source": [
        "Now that we've defined the core mechanism behind the transformer, we can move on to other layers and actually building the model."
      ]
    },
    {
      "cell_type": "markdown",
      "metadata": {
        "id": "Ws0B9poZkC7t"
      },
      "source": [
        "## Pointwise Feed Forward Network"
      ]
    },
    {
      "cell_type": "markdown",
      "metadata": {
        "id": "hUeJ6k2ykIVx"
      },
      "source": [
        "In each layer of the Transformer Decoder, the Multi-Head Attention block is followed by a fully-connected Feed Foward Network, which is simply a 2 layer network with a ReLU activation in between. "
      ]
    },
    {
      "cell_type": "code",
      "metadata": {
        "id": "2qruafSmqsfh"
      },
      "source": [
        "class PointwiseFFN(tf.keras.layers.Layer):\n",
        "  def __init__(self, d_model, dff, use_bias=True):\n",
        "    super(PointwiseFFN, self).__init__()\n",
        "\n",
        "    self.main = tf.keras.Sequential([\n",
        "        tf.keras.layers.Dense(dff, activation='relu', use_bias=use_bias), # (batch_size, seq_len, dff)\n",
        "        tf.keras.layers.Dense(d_model, use_bias=use_bias) # (batch_size, seq_len, d_model)           \n",
        "    ])\n",
        "  \n",
        "  def call(self, x):\n",
        "    return self.main(x)"
      ],
      "execution_count": null,
      "outputs": []
    },
    {
      "cell_type": "code",
      "metadata": {
        "id": "V3MdmRJDlCt5",
        "colab": {
          "base_uri": "https://localhost:8080/",
          "height": 51
        },
        "outputId": "98a7d6a5-873c-4b33-91ad-35f6951c2772"
      },
      "source": [
        "# test it out\n",
        "test_ffn = PointwiseFFN(512, 2048, True)\n",
        "print(f\"Shape of the output: {test_ffn(tf.random.uniform((60, 24, 512))).shape}\")\n",
        "print(f\"Number of trainable variables in the FFN sublayer: {len(list(test_ffn.trainable_variables))}\")\n",
        "del test_ffn"
      ],
      "execution_count": null,
      "outputs": [
        {
          "output_type": "stream",
          "text": [
            "Shape of the output: (60, 24, 512)\n",
            "Number of trainable variables in the FFN sublayer: 4\n"
          ],
          "name": "stdout"
        }
      ]
    },
    {
      "cell_type": "markdown",
      "metadata": {
        "id": "BBufulCLlujc"
      },
      "source": [
        "## Decoder Layer"
      ]
    },
    {
      "cell_type": "markdown",
      "metadata": {
        "id": "vRaekrdho2n0"
      },
      "source": [
        "While the original Transformer consisted of an Encoder and a Decoder designed for seq2seq tasks, the Transformer Decoder Model was adapted to handle sequence generation. While every Encoder Layer in the original Transformer had 2 sublayers, and every Decoder Layer had 3 sublayers, the Transformer Decoder model, as adapted by Radford et. al, 2019 and others before (such as Liu, et. al, 2018: https://arxiv.org/pdf/1801.10198.pdf), scrapped the Encoder, and consisted solely of a stack of Decoder Layers, each with 2 sublayers:\n",
        "1. Masked Multi-Head Attention\n",
        "2. Pointwise Feed Forward Layer\n",
        "\n",
        "Each sublayer also employs a residual connection followed by a LayerNorm on the last axis."
      ]
    },
    {
      "cell_type": "code",
      "metadata": {
        "id": "IpGr1pialNKu"
      },
      "source": [
        "class DecoderLayer(tf.keras.layers.Layer):\n",
        "  def __init__(self, d_model, num_heads, dff, max_rel_dist=MAX_REL_DIST, \n",
        "               use_bias=True, dropout=0.1, layernorm_eps=1e-06):\n",
        "    super(DecoderLayer, self).__init__()\n",
        "\n",
        "    self.mha = MultiHeadAttention(d_model, num_heads, max_rel_dist=max_rel_dist, use_bias=use_bias)\n",
        "    self.ffn = PointwiseFFN(d_model, dff)\n",
        "\n",
        "    self.layernorm1 = tf.keras.layers.LayerNormalization(axis=-1, epsilon=layernorm_eps)\n",
        "    self.layernorm2 = tf.keras.layers.LayerNormalization(axis=-1, epsilon=layernorm_eps)\n",
        "\n",
        "    self.dropout1 = tf.keras.layers.Dropout(dropout)\n",
        "    self.dropout2 = tf.keras.layers.Dropout(dropout)\n",
        "  \n",
        "  def call(self, x, training=False, mask=None):\n",
        "    attn_output, attn_weights = self.mha(x, x, x, mask=mask) # calculate attention\n",
        "    attn_output = self.dropout1(attn_output, training=training) # dropout\n",
        "    # layernorm on residual connection\n",
        "    out1 = self.layernorm1(x + attn_output) # (batch_size, seq_len, d_model)\n",
        "\n",
        "    ffn_output = self.ffn(out1) # pass through FFN\n",
        "    ffn_output = self.dropout2(ffn_output, training=training) # dropout\n",
        "    # layernorm on residual connection\n",
        "    out2 = self.layernorm2(out1 + ffn_output) # (batch_size, seq_len, d_model)\n",
        "\n",
        "    return out2, attn_weights"
      ],
      "execution_count": null,
      "outputs": []
    },
    {
      "cell_type": "code",
      "metadata": {
        "id": "DNMM7J8bseaU",
        "colab": {
          "base_uri": "https://localhost:8080/",
          "height": 68
        },
        "outputId": "73c96271-ffe8-4a0a-835b-ef9d233ca84e"
      },
      "source": [
        "# test Decoder Layer\n",
        "t = tf.random.uniform((32, 1500, 256))\n",
        "\n",
        "sample_decoder_layer = DecoderLayer(256, 8, 1024)\n",
        "out, attn = sample_decoder_layer(t, mask=create_look_ahead_mask(t.shape[-2]))\n",
        "\n",
        "print(f\"Shape of the output: {out.shape}\")\n",
        "print(f\"Shape of the attention weights: {attn.shape}\")\n",
        "print(f\"Number of trainable variables in Decoder Layer: {len(list(sample_decoder_layer.trainable_variables))}\")\n",
        "del t, out, sample_decoder_layer, attn"
      ],
      "execution_count": null,
      "outputs": [
        {
          "output_type": "stream",
          "text": [
            "Shape of the output: (32, 1500, 256)\n",
            "Shape of the attention weights: (32, 8, 1500, 1500)\n",
            "Number of trainable variables in Decoder Layer: 17\n"
          ],
          "name": "stdout"
        }
      ]
    },
    {
      "cell_type": "markdown",
      "metadata": {
        "id": "lWrDk6sEubMg"
      },
      "source": [
        "## Transformer Decoder"
      ]
    },
    {
      "cell_type": "markdown",
      "metadata": {
        "id": "AbRM5oPdudPu"
      },
      "source": [
        "Now that we have defined the Decoder Layer, we can build the Transformer Decoder as a stack of N decoder layers, along with the functionality to deal with an input sequence of tokens.\n",
        "\n",
        "The Transformer Decoder consists of:\n",
        "1. Input Embedding\n",
        "2. N Decoder Layers\n",
        "3. Final Linear Layer\n",
        "\n",
        "The Input Embedding is the embeddings of size ```vocab_size``` for the input sequence. After the input embedding, absolute position encoding is added. The embedded input sequences are passed into the stack of decoder layers, and the output of that stack is passed into the Final Linear layer to take the decoder output from shape $(..., L, d_{model})$ to ($..., L$, ```vocab_size```). This final layer can be the original input embedding weight matrix, as per Press and Wolf, 2016, (https://arxiv.org/pdf/1608.05859.pdf), as the input and output are from the same vocabulary, or it can be a new Dense layer altogether."
      ]
    },
    {
      "cell_type": "code",
      "metadata": {
        "id": "yl39bKxesrtI"
      },
      "source": [
        "class TransformerDecoder(tf.keras.Model):\n",
        "  def __init__(self, num_layers, d_model, num_heads, dff, vocab_size, max_rel_dist=MAX_REL_DIST, \n",
        "               max_abs_position=20000, use_bias=True, dropout=0.1, layernorm_eps=1e-06, tie_emb=False):\n",
        "    super(TransformerDecoder, self).__init__()\n",
        "\n",
        "    self.num_layers = num_layers\n",
        "    self.d_model = d_model\n",
        "    self.tie_emb = tie_emb\n",
        "    self.le = layernorm_eps\n",
        "\n",
        "    self.max_position = max_abs_position # might need for decode\n",
        "\n",
        "    self.embedding = tf.keras.layers.Embedding(vocab_size, d_model) # input embeddings\n",
        "    self.positional_encoding = abs_positional_encoding(max_abs_position, d_model) # absolute position encoding\n",
        "    self.dropout = tf.keras.layers.Dropout(dropout) # embedding dropout\n",
        "\n",
        "    # decoder layers\n",
        "    self.dec_layers = [DecoderLayer(d_model, num_heads, dff, max_rel_dist, use_bias, dropout, layernorm_eps)\\\n",
        "                       for _ in range(self.num_layers)]\n",
        "\n",
        "    # final layer is linear or embedding weight depending on tie emb\n",
        "    if not tie_emb:\n",
        "      self.final_layer = tf.keras.layers.Dense(vocab_size, use_bias=use_bias)\n",
        "  \n",
        "  def call(self, x, training=False, mask=None):\n",
        "    # initialize attention weights dict to output\n",
        "    attention_weights = {}\n",
        "\n",
        "    # embed x and add absolute positional encoding\n",
        "    x = self.embedding(x) # (batch_size, seq_len) -> (batch_size, seq_len, d_model)\n",
        "    x *= math.sqrt(self.d_model) \n",
        "    if self.max_position > 0:\n",
        "      x += self.positional_encoding[:, :x.shape[-2], :]\n",
        "\n",
        "    x = self.dropout(x, training=training)\n",
        "\n",
        "    # pass through decoder layers\n",
        "    for i in range(len(self.dec_layers)):\n",
        "      x, w_attn = self.dec_layers[i](x, training, mask)\n",
        "      attention_weights[f'DecoderLayer{i+1}'] = w_attn\n",
        "    \n",
        "    # final layer\n",
        "    if self.tie_emb:\n",
        "      x = tf.matmul(x, self.embedding.embeddings, transpose_b=True)\n",
        "    else:\n",
        "      x = self.final_layer(x)\n",
        "    \n",
        "    # returns unsoftmaxed logits\n",
        "    return x, attention_weights"
      ],
      "execution_count": null,
      "outputs": []
    },
    {
      "cell_type": "code",
      "metadata": {
        "id": "J0aupYs1cQhz",
        "colab": {
          "base_uri": "https://localhost:8080/",
          "height": 85
        },
        "outputId": "cea95161-4ac4-4a84-ede2-61bc00606c27"
      },
      "source": [
        "# example transformer\n",
        "with strategy.scope():\n",
        "  sample_transformer = TransformerDecoder(\n",
        "      num_layers=6, d_model=256, num_heads=8, dff=1024, vocab_size=tu.vocab_size, max_rel_dist=1537, \n",
        "      max_abs_position=20000, use_bias=True, dropout=0.1, tie_emb=True\n",
        "  )\n",
        "out, attn = sample_transformer(tf.random.uniform((16, 1600))) # build the model\n",
        "start = time.time()\n",
        "out, attn = sample_transformer(tf.random.uniform((16, 1600), minval=0, maxval=400, dtype=tf.int32))\n",
        "print(f\"Shape of the output: {out.shape}\")\n",
        "print(f\"Shape of the attention weights: {attn['DecoderLayer1'].shape}\")\n",
        "print(f\"Number of parameters in the Tranformer Decoder: {len(list(sample_transformer.trainable_variables))}\")\n",
        "print(f\"Time taken to compute over an input batch when not training: {time.time()-start} seconds\")\n",
        "del out, attn, sample_transformer, start"
      ],
      "execution_count": null,
      "outputs": [
        {
          "output_type": "stream",
          "text": [
            "Shape of the output: (16, 1600, 416)\n",
            "Shape of the attention weights: (16, 8, 1600, 1600)\n",
            "Number of parameters in the Tranformer Decoder: 103\n",
            "Time taken to compute over an input batch when not training: 4.357294797897339 seconds\n"
          ],
          "name": "stdout"
        }
      ]
    },
    {
      "cell_type": "markdown",
      "metadata": {
        "id": "4Ffg4Yh8N9Yi"
      },
      "source": [
        "# Training"
      ]
    },
    {
      "cell_type": "markdown",
      "metadata": {
        "id": "C0Q6nRpb7Qgo"
      },
      "source": [
        "## Set Hyperparameters"
      ]
    },
    {
      "cell_type": "markdown",
      "metadata": {
        "id": "s0UIMX_t7Si3"
      },
      "source": [
        "Sadly, the TPU can only compute loss on an input batch of batch size 48 and sequence length ~2000 tokens without crashing. The reference paper Huang et. al, 2018 does not specify the batch size but specifies the sequences trained on were of length 2048 tokens. \n",
        "\n",
        "While the batch size and sequence length cannot be changed, other relevant hyperparameters need to be experimented with to get the best results."
      ]
    },
    {
      "cell_type": "code",
      "metadata": {
        "id": "vNjs2Llk_oyc"
      },
      "source": [
        "num_layers = 6\n",
        "d_model = 256\n",
        "dff = 1024\n",
        "num_heads = 8\n",
        "\n",
        "max_rel_dist = MAX_REL_DIST\n",
        "max_abs_position = 1\n",
        "\n",
        "use_bias = True\n",
        "tie_emb = False\n",
        "layernorm_eps = 1e-06\n",
        "\n",
        "vocab_size = tu.vocab_size # don't change this\n",
        "dropout_rate = 0.1"
      ],
      "execution_count": null,
      "outputs": []
    },
    {
      "cell_type": "markdown",
      "metadata": {
        "id": "eEZpyvQQHkH-"
      },
      "source": [
        "## Learning Rate Schedule"
      ]
    },
    {
      "cell_type": "markdown",
      "metadata": {
        "id": "g49oPpKxHrFm"
      },
      "source": [
        "As per Vaswani et. al, 2017, the Adam optimizer with a custom learning rate scheduler is used when training the transformer model:\n",
        "\n",
        "$$lr = d_{model}^{\\:-0.5} \\cdot \\min{\\left(step\\_num^{-0.5}, step\\_num \\:\\cdot warmup\\_steps^{-1.5} \\right)}$$\n",
        "\n",
        "Additionally, the betas to be used in the Adam optimizer are 0.9 and 0.98, with epsilon equal to 1e-9."
      ]
    },
    {
      "cell_type": "code",
      "metadata": {
        "id": "LrF4bVxKHiuL"
      },
      "source": [
        "class CustomSchedule(tf.keras.optimizers.schedules.LearningRateSchedule):\n",
        "  def __init__(self, d_model, warmup_steps=4000):\n",
        "    self.d_model = d_model\n",
        "    self.d_model = tf.cast(self.d_model, tf.float32)\n",
        "\n",
        "    self.warmup_steps = warmup_steps\n",
        "\n",
        "  def __call__(self, step):\n",
        "    arg1 = tf.math.rsqrt(step)\n",
        "    arg2 = step * (self.warmup_steps ** -1.5)\n",
        "    \n",
        "    return tf.math.rsqrt(self.d_model) * tf.math.minimum(arg1, arg2)"
      ],
      "execution_count": null,
      "outputs": []
    },
    {
      "cell_type": "code",
      "metadata": {
        "id": "rpbIiGvXIyPv"
      },
      "source": [
        "# how to set up the optimizer\n",
        "learning_rate = CustomSchedule(d_model)\n",
        "\n",
        "optimizer = tf.keras.optimizers.Adam(learning_rate, beta_1=0.9, beta_2=0.98, \n",
        "                                     epsilon=1e-09)\n",
        "del learning_rate, optimizer"
      ],
      "execution_count": null,
      "outputs": []
    },
    {
      "cell_type": "code",
      "metadata": {
        "id": "9QFr8iJ5I297",
        "colab": {
          "base_uri": "https://localhost:8080/",
          "height": 296
        },
        "outputId": "f0ec8249-0c46-4af4-fe0d-2d6b14ea960f"
      },
      "source": [
        "plt.plot(CustomSchedule(256)(tf.range(25000, dtype=tf.float32)))\n",
        "plt.ylabel(\"Learning Rate\")\n",
        "plt.xlabel(\"Train Step\")"
      ],
      "execution_count": null,
      "outputs": [
        {
          "output_type": "execute_result",
          "data": {
            "text/plain": [
              "Text(0.5, 0, 'Train Step')"
            ]
          },
          "metadata": {
            "tags": []
          },
          "execution_count": 28
        },
        {
          "output_type": "display_data",
          "data": {
            "image/png": "[encoded data removed]",
            "text/plain": [
              "<Figure size 432x288 with 1 Axes>"
            ]
          },
          "metadata": {
            "tags": [],
            "needs_background": "light"
          }
        }
      ]
    },
    {
      "cell_type": "markdown",
      "metadata": {
        "id": "-lBFSxOZKlGH"
      },
      "source": [
        "## Loss and Metrics"
      ]
    },
    {
      "cell_type": "markdown",
      "metadata": {
        "id": "dGJe8qXTK8Hl"
      },
      "source": [
        "Since some of the inputs are padded, it is important to apply a padding mask when calculating the loss.\n",
        "\n",
        "The loss object will be Sparse Categorical Entropy Loss. This is the loss to be used when dealing with indices in a vocabulary, rather than one-hot vectors."
      ]
    },
    {
      "cell_type": "code",
      "metadata": {
        "id": "q2opTVZYJSSI"
      },
      "source": [
        "with strategy.scope():\n",
        "  loss_object = tf.keras.losses.SparseCategoricalCrossentropy(\n",
        "      from_logits=True,\n",
        "      reduction=tf.keras.losses.Reduction.NONE\n",
        "  )\n",
        "  def loss_function(target, predictions, criterion=loss_object):\n",
        "    \"\"\"\n",
        "    If defining custom criterion, make sure reduction is none\n",
        "    \"\"\"\n",
        "    mask = tf.not_equal(target, tf.zeros_like(target))\n",
        "    _loss = criterion(target, predictions)\n",
        "\n",
        "    mask = tf.cast(mask, _loss.dtype) # make mask of same dtype as loss\n",
        "    _loss *= mask\n",
        "\n",
        "    return tf.reduce_sum(_loss) / tf.reduce_sum(mask)"
      ],
      "execution_count": null,
      "outputs": []
    },
    {
      "cell_type": "code",
      "metadata": {
        "id": "aKWOdGTLMePC"
      },
      "source": [
        "with strategy.scope():\n",
        "  train_loss = tf.keras.metrics.Mean(name='train_loss') \n",
        "  train_accuracy = tf.keras.metrics.SparseCategoricalAccuracy(name='train_accuracy')\n",
        "\n",
        "  val_loss = tf.keras.metrics.Mean(name='val loss')\n",
        "  val_accuracy = tf.keras.metrics.SparseCategoricalAccuracy(name='val accuracy')"
      ],
      "execution_count": null,
      "outputs": []
    },
    {
      "cell_type": "markdown",
      "metadata": {
        "id": "uWOeRLyBO1Gn"
      },
      "source": [
        "## Training and Checkpointing"
      ]
    },
    {
      "cell_type": "markdown",
      "metadata": {
        "id": "tQ5CT19drJRb"
      },
      "source": [
        "The transformer is an autoregressive model, which means that at the inference stage, it will make next predictions based on its previous outputs.\n",
        "\n",
        "However, while training, we can use teacher forcing - feeding the target into the model as previous output regardless of the true output of the model. This significantly cuts down on the compute required, while usually reducing loss (at the expense of generalizability, nonetheless).\n",
        "\n",
        "Since we are training a generative model, the targets are simply the inputs shifted right by 1 position. The data has already been cut this way during the Input Pipeline.\n",
        "\n",
        "Now, we need to create the model and optimizer, set up the checkpointing mechanism on a GCS Bucket, and train."
      ]
    },
    {
      "cell_type": "code",
      "metadata": {
        "id": "aAe25Icxu0ya",
        "colab": {
          "base_uri": "https://localhost:8080/",
          "height": 34
        },
        "outputId": "a25c5f48-97cf-42b2-8503-3e2b66ee1f7f"
      },
      "source": [
        "# set before training\n",
        "num_train_steps = 1000000\n",
        "epochs = tf.convert_to_tensor(math.ceil(num_train_steps / num_train_batches))\n",
        "print(epochs)"
      ],
      "execution_count": null,
      "outputs": [
        {
          "output_type": "stream",
          "text": [
            "tf.Tensor(207, shape=(), dtype=int32)\n"
          ],
          "name": "stdout"
        }
      ]
    },
    {
      "cell_type": "markdown",
      "metadata": {
        "id": "G4Dn5KQ8izpP"
      },
      "source": [
        "Create the model and optimizer and the epoch from which to start training."
      ]
    },
    {
      "cell_type": "code",
      "metadata": {
        "id": "eovNq0_KrfAH"
      },
      "source": [
        "with strategy.scope():\n",
        "  transformer = TransformerDecoder(\n",
        "      num_layers, d_model, num_heads, dff, vocab_size, MAX_REL_DIST, max_abs_position,\n",
        "      use_bias, dropout_rate, layernorm_eps, tie_emb\n",
        "  )\n",
        "  learning_rate = CustomSchedule(d_model, warmup_steps=4000)\n",
        "\n",
        "  optimizer = tf.keras.optimizers.Adam(learning_rate, beta_1=0.9, beta_2=0.98, \n",
        "                                       epsilon=1e-09)\n",
        "  \n",
        "  start_epoch = tf.Variable(0) # to handle restarting training from a checkpoint"
      ],
      "execution_count": null,
      "outputs": []
    },
    {
      "cell_type": "markdown",
      "metadata": {
        "id": "olfTL7KRAyXQ"
      },
      "source": [
        "Now, since we'll have to train for a while, we'll use checkpoints to train the model. Every ```ckpt_interval``` epochs, we'll save the model weights, the optimizer state and the epoch number. "
      ]
    },
    {
      "cell_type": "code",
      "metadata": {
        "id": "A3zei4_uTr2J"
      },
      "source": [
        "# build the. model\n",
        "with strategy.scope():\n",
        "  _ = transformer(tf.random.uniform((GLOBAL_BATCH_SIZE, MAX_LENGTH)))\n",
        "  del _"
      ],
      "execution_count": null,
      "outputs": []
    },
    {
      "cell_type": "code",
      "metadata": {
        "id": "35TZO9UJBNQp",
        "colab": {
          "base_uri": "https://localhost:8080/",
          "height": 68
        },
        "outputId": "1dd34f4b-63b9-486a-f1bc-3f017f6ee502"
      },
      "source": [
        "# set up the checkpoints\n",
        "checkpoint_path = \"checkpoint/path/in/bucket\"\n",
        "ckpt_interval = 1 # checkpoint every ckpt_interval epochs\n",
        "\n",
        "with strategy.scope():\n",
        "  checkpoint = tf.train.Checkpoint(transformer=transformer,\n",
        "                                   optimizer=optimizer,\n",
        "                                   epoch=start_epoch)\n",
        "  \n",
        "  ckpt_manager = tf.train.CheckpointManager(checkpoint, checkpoint_path, \n",
        "                                            max_to_keep=5)\n",
        "\n",
        "  if ckpt_manager.latest_checkpoint:\n",
        "    checkpoint.restore(ckpt_manager.latest_checkpoint)\n",
        "    print('Latest checkpoint restored.')\n",
        "    print(f'Training will resume from epoch {start_epoch.numpy()}.')\n",
        "    print(f'{optimizer.iterations.numpy()} train steps have already been completed.')"
      ],
      "execution_count": null,
      "outputs": [
        {
          "output_type": "stream",
          "text": [
            "Latest checkpoint restored.\n",
            "Training will resume from epoch 199.\n",
            "966480 train steps have already been completed.\n"
          ],
          "name": "stdout"
        }
      ]
    },
    {
      "cell_type": "markdown",
      "metadata": {
        "id": "W6hWetA_u5dd"
      },
      "source": [
        "Now, to train!"
      ]
    },
    {
      "cell_type": "code",
      "metadata": {
        "id": "hfZqRPIpvLnC"
      },
      "source": [
        "# define the train step and validation step functions\n",
        "def train_step(target, inputs):\n",
        "  # forward pass\n",
        "  with tf.GradientTape() as tape:\n",
        "    predictions, _ = transformer(inputs, training=True, mask=create_mask(inputs))\n",
        "    loss = loss_function(target, predictions) #/ (MAX_LENGTH)\n",
        "  \n",
        "  # update weights\n",
        "  gradients = tape.gradient(loss, transformer.trainable_variables)    \n",
        "  optimizer.apply_gradients(zip(gradients, transformer.trainable_variables))\n",
        "\n",
        "  # accuracy\n",
        "  train_accuracy(target, predictions)\n",
        "  train_loss(loss)\n",
        "  return loss\n",
        "\n",
        "def val_step(target, inputs):\n",
        "  # forward pass\n",
        "  predictions, _ = transformer(inputs, training=True, mask=create_mask(inputs))\n",
        "  loss = loss_function(target, predictions) #/ (MAX_LENGTH)\n",
        "\n",
        "  # accuracy\n",
        "  val_accuracy(target, predictions)\n",
        "  val_loss(loss)\n",
        "\n",
        "  return loss"
      ],
      "execution_count": null,
      "outputs": []
    },
    {
      "cell_type": "markdown",
      "metadata": {
        "id": "SnNK32QMPcSk"
      },
      "source": [
        "Since the step functions return the loss computed at each TPU core, we need to reduce the distributed loss back into one value."
      ]
    },
    {
      "cell_type": "code",
      "metadata": {
        "id": "B3nkx4zO2shf"
      },
      "source": [
        "# distributed steps\n",
        "@tf.function\n",
        "def distributed_train_step(dataset_inp):\n",
        "  per_replica_losses = strategy.run(train_step, args=(dataset_inp))\n",
        "  final_loss =  strategy.reduce(tf.distribute.ReduceOp.SUM, per_replica_losses, axis=None)\n",
        "\n",
        "  # get metrics\n",
        "  train_loss(final_loss)\n",
        "\n",
        "  return final_loss\n",
        "\n",
        "@tf.function\n",
        "def distributed_val_step(dataset_inp):\n",
        "  per_replica_losses = strategy.run(val_step, args=(dataset_inp))\n",
        "  final_loss = strategy.reduce(tf.distribute.ReduceOp.SUM, per_replica_losses, axis=None)\n",
        "\n",
        "  # get metrics\n",
        "  val_loss(final_loss)\n",
        "\n",
        "  return final_loss"
      ],
      "execution_count": null,
      "outputs": []
    },
    {
      "cell_type": "markdown",
      "metadata": {
        "id": "OlRF0bie5_X2"
      },
      "source": [
        "Finally, the training loop!"
      ]
    },
    {
      "cell_type": "code",
      "metadata": {
        "id": "cm8_COh_cjS5"
      },
      "source": [
        "# train loop\n",
        "try:\n",
        "  for epoch in range(start_epoch.numpy(), epochs):\n",
        "    start = time.time()\n",
        "    batch_timer = time.time()\n",
        "    \n",
        "    # train steps\n",
        "    train_loss.reset_states()\n",
        "    train_accuracy.reset_states()\n",
        "\n",
        "    for batch, ds_inp in enumerate(train_dist_ds):\n",
        "      distributed_train_step(ds_inp)\n",
        "\n",
        "      if (batch + 1) % 202 == 0 or batch == 0:\n",
        "        print(f\"Processing Epoch {epoch} Train Batch {batch} \" \\\n",
        "              f\"Loss {round(train_loss.result().numpy().item(), 6)} \" \\\n",
        "              f\"Accuracy {round(train_accuracy.result().numpy().item(), 6)} \" \\\n",
        "              f\"Time taken {round(time.time() - batch_timer, 2)} secs\")\n",
        "        batch_timer = time.time()\n",
        "    \n",
        "    batch_timer = time.time()\n",
        "    \n",
        "    if (epoch + 1) % ckpt_interval == 0:\n",
        "      start_epoch.assign(epoch + 1)\n",
        "      print(\"Checkpointing...\", end=\"\")\n",
        "      save_path = ckpt_manager.save()\n",
        "      print(f\"Done! Saved at {save_path}\")\n",
        "\n",
        "    print(f\"Epoch {epoch} \"\\\n",
        "          f\"Train Loss {round(train_loss.result().numpy().item(), 6)} \" \\\n",
        "          f\"Train Accuracy {round(train_accuracy.result().numpy().item(), 6)}\", end=\" \")\n",
        "    print(f\"Val Loss {round(val_loss.result().numpy().item(), 6)} \"\\\n",
        "          f\"Val Accuracy {round(val_accuracy.result().numpy().item(), 6)}\")\n",
        "    print(f\"Time taken for 1 epoch {round(time.time() - start, 2)} secs\\n\")\n",
        "\n",
        "except KeyboardInterrupt:\n",
        "  print(\"\\nKeyboard Interrupt\")\n",
        "  print(f\"{optimizer.iterations.numpy()} train steps have been computed.\")\n",
        "  print(f\"Current Train Loss {round(train_loss.result().numpy().item(), 6)} and \" \\\n",
        "        f\"Train Accuracy {round(train_accuracy.result().numpy().item(), 6)} \\n\"\n",
        "        f\"Current Val Loss {round(val_loss.result().numpy().item(), 6)} and \"\\\n",
        "        f\"Val Accuracy {round(val_accuracy.result().numpy().item(), 6)}\\n\")\n",
        "  save = input(\"Save the model?\\n\")\n",
        "  if save == 'y' or save == 'yes':\n",
        "    model_save_path = PATH + f\"Models/1920_model_{optimizer.iterations.numpy()}_train_steps.h5\"\n",
        "    print(f\"Saving at {model_save_path}...\", end=\"\")\n",
        "    transformer.save_weights(model_save_path)\n",
        "    print(\"Done!\")"
      ],
      "execution_count": null,
      "outputs": []
    },
    {
      "cell_type": "markdown",
      "metadata": {
        "id": "EpiKxNzCIGRX"
      },
      "source": [
        "## Saving and Loading"
      ]
    },
    {
      "cell_type": "markdown",
      "metadata": {
        "id": "-hyUd406IIIR"
      },
      "source": [
        "Now that the transformer has been trained, we can save it with the ```save_weights``` function. Note that we cannot save the model as it is a custom subclassed model, and that the save format must be h5."
      ]
    },
    {
      "cell_type": "code",
      "metadata": {
        "id": "i3iQX9hk9hcE"
      },
      "source": [
        "model_save_path = PATH + \"Models/\""
      ],
      "execution_count": null,
      "outputs": []
    },
    {
      "cell_type": "code",
      "metadata": {
        "id": "zpjUQBpaV0mb"
      },
      "source": [
        "transformer.save_weights(model_save_path + f\"1920_model_{optimizer.iterations.numpy()}_train_steps.h5\")"
      ],
      "execution_count": null,
      "outputs": []
    },
    {
      "cell_type": "markdown",
      "metadata": {
        "id": "KXuE0jKWWGyJ"
      },
      "source": [
        "Now, we can load the model as follows, with or without a strategy. Since we have saved only the weights, we have to build the model before the weights can be loaded."
      ]
    },
    {
      "cell_type": "code",
      "metadata": {
        "id": "b4S6og7wWGYT"
      },
      "source": [
        "# create the model\n",
        "transformer = TransformerDecoder(\n",
        "    num_layers, d_model, num_heads, dff, vocab_size, MAX_LENGTH, max_abs_position,\n",
        "    use_bias, dropout_rate, layernorm_eps, tie_emb\n",
        ")"
      ],
      "execution_count": null,
      "outputs": []
    },
    {
      "cell_type": "code",
      "metadata": {
        "id": "0pe6nUOGWvD4"
      },
      "source": [
        "# build the model\n",
        "_ = transformer(tf.random.uniform((2, MAX_LENGTH)))\n",
        "del _"
      ],
      "execution_count": null,
      "outputs": []
    },
    {
      "cell_type": "code",
      "metadata": {
        "id": "oojK2QlBWdsa"
      },
      "source": [
        "# load the weights\n",
        "transformer.load_weights(model_save_path + \"1920_model_1006840_train_steps.h5\")"
      ],
      "execution_count": null,
      "outputs": []
    },
    {
      "cell_type": "markdown",
      "metadata": {
        "id": "3E4GjQRwiF-o"
      },
      "source": [
        "## Generate!"
      ]
    },
    {
      "cell_type": "markdown",
      "metadata": {
        "id": "WTiSnOXpiUQW"
      },
      "source": [
        "Once the model is trained, we have to define a decoding function for the model to autoregressively compute its outputs. Note that in order to generate outputs much quicker without having to use a distribution strategy, change to GPU runtime. It takes about 90 seconds to generate 1500 tokens.\n",
        "\n",
        "The decode function will let the model generate until it predicts an end token. Since the model can only take a fixed length of inputs at a time, this means iteratively appending and clipping the input to the model, but storing the outputs at every step."
      ]
    },
    {
      "cell_type": "code",
      "metadata": {
        "id": "CJDOkiqVATY2"
      },
      "source": [
        "def greedy_decode(transformer, inp, mode='categorical', temperature=1.0, k=None, skip_ends=0, memory=1000):\n",
        "  \"\"\"\n",
        "  Decodes inp greedily by appending last outputs to the input and feeding\n",
        "  back into the model. Model is made to generate until end token is predicted\n",
        "  by feeding only the last model.max_len inputs to the model at each decode step\n",
        "  \"\"\"\n",
        "  # get tokens\n",
        "  if not isinstance(inp, tf.Tensor) and not isinstance(inp, np.ndarray):\n",
        "    inp = tu.events_to_indices(inp)\n",
        "  if inp[0] != tu.start_token:\n",
        "    middle_dims = [[0, 0] for _ in range(tf.rank(inp) - 1)]\n",
        "    inp = tf.pad(inp, paddings=[*middle_dims, [1, 0]], constant_values=tu.start_token)\n",
        "  # check if temperature / k is a function\n",
        "  if not callable(temperature):\n",
        "    temperature_ = temperature; del temperature\n",
        "    temperature = lambda x: temperature_\n",
        "\n",
        "  if not callable(k) and k is not None:\n",
        "    k_ = k; del k\n",
        "    k = lambda x: k_\n",
        "\n",
        "  # dimension for the mask\n",
        "  n = tf.rank(inp) + 2 if tf.rank(inp) > 0 else 3\n",
        "\n",
        "  # make inp 2d\n",
        "  inp = [tf.expand_dims(inp, 0)]\n",
        "\n",
        "  # initialize attention weights in case inp.shape[-1] is already > max_len\n",
        "  attention_weights = {}\n",
        "\n",
        "  # maximum number of tokens to input to the model\n",
        "  try:\n",
        "    while True:\n",
        "      predictions, attention_weights = transformer(inp[-1], training=False, \n",
        "                                                   mask=create_mask(inp[-1], n))\n",
        "\n",
        "      # divide logits by temperature\n",
        "      predictions /= temperature(inp[-1].shape[-1])\n",
        "\n",
        "      # get last prediction\n",
        "      if mode == 'argmax' or mode == 'a':\n",
        "        prediction = tf.expand_dims(tf.argmax(predictions[..., -1, :], axis=-1, output_type=tf.int32), 0)\n",
        "      elif k is not None:\n",
        "        top_k_final_predictions = tf.math.top_k(predictions[..., -1, :], \n",
        "                                                k=k(inp[-1].shape[-1]))\n",
        "        predicted_idx = tf.random.categorical(\n",
        "            logits=top_k_final_predictions.values, \n",
        "            num_samples=1,\n",
        "            dtype=tf.int32\n",
        "        )\n",
        "        predicted_idx = tf.squeeze(predicted_idx)\n",
        "        prediction = tf.expand_dims(tf.expand_dims(top_k_final_predictions.indices[0, predicted_idx], 0), 0)\n",
        "      elif mode == 'categorical' or mode == 'c':\n",
        "        prediction = tf.random.categorical(logits=predictions[..., -1, :], num_samples=1, dtype=tf.int32)\n",
        "      else:\n",
        "        print(f\"Unsupported mode '{mode}'. Use 'argmax' or 'categorical'\")\n",
        "        return None\n",
        "    \n",
        "      # return if prediction is end token\n",
        "      if prediction == tu.end_token: #or inp[-1].shape[-1] == MAX_LENGTH:\n",
        "        if skip_ends <= 0:\n",
        "          out = tf.concat(inp, axis=-1)\n",
        "          return tf.squeeze(out)[1:], attention_weights\n",
        "        else:\n",
        "          skip_ends -= 1\n",
        "          vec = inp[-1]\n",
        "          inp.append(vec[:, :-memory])\n",
        "          # maybe i need to put the start token here so that it actually ends at 1920 positions\n",
        "          inp.append(vec[:, -memory:])\n",
        "          inp = inp[:-3] + inp[-2:]\n",
        "      # else concatenate last output to inp\n",
        "      inp[-1] = tf.concat([inp[-1], prediction], axis=-1)\n",
        "  except KeyboardInterrupt:\n",
        "    pass\n",
        "  out = tf.concat(inp, axis=-1)\n",
        "  return tf.squeeze(out)[1:], attention_weights"
      ],
      "execution_count": null,
      "outputs": []
    },
    {
      "cell_type": "markdown",
      "metadata": {
        "id": "fPGb8KRLugRJ"
      },
      "source": [
        "Now, before executing that function, we can also use fluidsynth and IPython.display to turn the generated output into playable .wav files. To do so, however, we can define two new functions - one to save the generated .midi file and convert it to a .wav file and save it again in the specified path; and a second to simply combine this function with the greedy decode function."
      ]
    },
    {
      "cell_type": "code",
      "metadata": {
        "id": "Z9Qwe5N1a7q1"
      },
      "source": [
        "def audiate(idx_list, path='./bloop.mid', tempo=512820, gain=1.0, sr=44100, wav=True, verbose=False):\n",
        "  # check path is mid or midi, set to mid, else invalid path\n",
        "  if path.endswith(\"midi\"):\n",
        "    path = path[:-1]\n",
        "  elif path.endswith(\"mid\"):\n",
        "    pass\n",
        "  else:\n",
        "    print(\"Invalid extension. Use '.mid' or '.midi'.\")\n",
        "    return None          \n",
        "  \n",
        "  # create and save the midi file\n",
        "  print(\"Saving midi file...\") if verbose else None\n",
        "  mid = tu.Listparser(index_list=idx_list, tempo=tempo)\n",
        "  mid.save(path)\n",
        "  if not wav:\n",
        "      print(f\"Midi saved at {path}\")\n",
        "      return None\n",
        "  # run the FluidSynth command - could also use font.sf2\n",
        "  print(\"Creating wav file...\\n\") if verbose else None\n",
        "  os.system(f\"fluidsynth -ni Yamaha-C5-Salamander-JNv5.1.sf2 {path} -F {path[:-4]}.wav -r 44100 -g {gain}\")\n",
        "  \n",
        "  return Audio(f\"{path[:-4]}.wav\")"
      ],
      "execution_count": null,
      "outputs": []
    },
    {
      "cell_type": "code",
      "metadata": {
        "id": "b3rH0ieculDT"
      },
      "source": [
        "def generate(transformer, inp, path='./bloop.mid', mode='categorical', temperature=1.0, \n",
        "             k=None, skip_ends=0, memory=1000, tempo=512820, wav=True, verbose=False):\n",
        "  # get the index list\n",
        "  if verbose:\n",
        "    print(\"Greedy decoding...\", end='')\n",
        "    start = time.time()\n",
        "    idx_list, attn_weights = greedy_decode(transformer, inp, mode, temperature, \n",
        "                                           k, skip_ends, memory)\n",
        "    end = time.time()\n",
        "    print(f\"Generated {len(idx_list)} tokens.\", end=\" \")\n",
        "    print(f\"Time taken: {round(end - start, 2)} secs.\")\n",
        "  else:\n",
        "    idx_list, attn_weights = greedy_decode(transformer, inp, mode, temperature, \n",
        "                                           k, skip_ends, memory)\n",
        "  # generate audio\n",
        "  return audiate(idx_list, path, tempo, wav=wav, verbose=verbose)"
      ],
      "execution_count": null,
      "outputs": []
    },
    {
      "cell_type": "code",
      "metadata": {
        "id": "emVcBIqt7Shb"
      },
      "source": [
        "generate(transformer, ['<start>'], k=30, tempo=600000, verbose=True)"
      ],
      "execution_count": null,
      "outputs": []
    },
    {
      "cell_type": "markdown",
      "metadata": {
        "id": "LBHlixGkygrC"
      },
      "source": [
        "## Conclusion and Evaluation"
      ]
    },
    {
      "cell_type": "markdown",
      "metadata": {
        "id": "Cpvv4GVaUgyD"
      },
      "source": [
        "The model was trained for a little over 1 million train steps on the full MAESTRO dataset, represented with the vocabulary given in Oore et. al, 2018, augmented by 5 pitch transpositions and 2 time stretches, and cut into 1920-token-long excerpts. The final training cross-entropy loss achieved was 1.257 with a final training accuracy of 57.01%. The model was clearly overfitting about 100,000 train steps in, and so, calculation of validation metrics was stopped at this point to speed up training.\n",
        "\n",
        "\\\\\n",
        "Several good things can be said about the results of the model. At times, the generated audio (with variable temperature and top-k sampling) is melodically consistent, containing repeated phrases and mostly sticking to classical harmony (mostly using notes of the tonic key with small deviations to create interest, etc.). Tonality as well as virtuosic tendencies (double octaves, fast scales, broken chords, etc.) present in the generated audio, show that the model was able to extract these features from the data and learn how they are used in Western classical music.\n",
        "\n",
        "\\\\\n",
        "Still, the model has several flaws. While the generated samples exhibit a bit of \"expressive\" playing and parts that \"sound nice\", they are quite prone to inconsistent and wandering melodies, sudden changes in rhythm, a high degree of repetition, long pauses, and staccato notes. Perhaps the most obvious flaw is the model's capacity to forget the melody it started with, failing to incorporate past information into the production of new information, something which the Transformer is specifically designed to do.\n",
        "\n",
        "\\\\\n",
        "Still, this project was a great exercise, and I learned a lot. I hope it leads to even better things.\n"
      ]
    }
  ]
}